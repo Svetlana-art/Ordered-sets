{
 "cells": [
  {
   "cell_type": "markdown",
   "metadata": {},
   "source": [
    "# Panteleeva Svetlana"
   ]
  },
  {
   "cell_type": "markdown",
   "metadata": {},
   "source": [
    "## Importing dataset\n",
    "\n",
    "https://archive.ics.uci.edu/ml/datasets/Tic-Tac-Toe+Endgame"
   ]
  },
  {
   "cell_type": "code",
   "execution_count": 1,
   "metadata": {},
   "outputs": [],
   "source": [
    "import pandas as pd\n",
    "import numpy as np"
   ]
  },
  {
   "cell_type": "code",
   "execution_count": 2,
   "metadata": {},
   "outputs": [
    {
     "data": {
      "text/html": [
       "<div>\n",
       "<style scoped>\n",
       "    .dataframe tbody tr th:only-of-type {\n",
       "        vertical-align: middle;\n",
       "    }\n",
       "\n",
       "    .dataframe tbody tr th {\n",
       "        vertical-align: top;\n",
       "    }\n",
       "\n",
       "    .dataframe thead th {\n",
       "        text-align: right;\n",
       "    }\n",
       "</style>\n",
       "<table border=\"1\" class=\"dataframe\">\n",
       "  <thead>\n",
       "    <tr style=\"text-align: right;\">\n",
       "      <th></th>\n",
       "      <th>V1</th>\n",
       "      <th>V2</th>\n",
       "      <th>V3</th>\n",
       "      <th>V4</th>\n",
       "      <th>V5</th>\n",
       "      <th>V6</th>\n",
       "      <th>V7</th>\n",
       "      <th>V8</th>\n",
       "      <th>V9</th>\n",
       "      <th>V10</th>\n",
       "    </tr>\n",
       "  </thead>\n",
       "  <tbody>\n",
       "    <tr>\n",
       "      <th>0</th>\n",
       "      <td>x</td>\n",
       "      <td>x</td>\n",
       "      <td>x</td>\n",
       "      <td>x</td>\n",
       "      <td>o</td>\n",
       "      <td>o</td>\n",
       "      <td>x</td>\n",
       "      <td>o</td>\n",
       "      <td>o</td>\n",
       "      <td>positive</td>\n",
       "    </tr>\n",
       "    <tr>\n",
       "      <th>1</th>\n",
       "      <td>x</td>\n",
       "      <td>x</td>\n",
       "      <td>x</td>\n",
       "      <td>x</td>\n",
       "      <td>o</td>\n",
       "      <td>o</td>\n",
       "      <td>o</td>\n",
       "      <td>x</td>\n",
       "      <td>o</td>\n",
       "      <td>positive</td>\n",
       "    </tr>\n",
       "    <tr>\n",
       "      <th>2</th>\n",
       "      <td>x</td>\n",
       "      <td>x</td>\n",
       "      <td>x</td>\n",
       "      <td>x</td>\n",
       "      <td>o</td>\n",
       "      <td>o</td>\n",
       "      <td>o</td>\n",
       "      <td>o</td>\n",
       "      <td>x</td>\n",
       "      <td>positive</td>\n",
       "    </tr>\n",
       "    <tr>\n",
       "      <th>3</th>\n",
       "      <td>x</td>\n",
       "      <td>x</td>\n",
       "      <td>x</td>\n",
       "      <td>x</td>\n",
       "      <td>o</td>\n",
       "      <td>o</td>\n",
       "      <td>o</td>\n",
       "      <td>b</td>\n",
       "      <td>b</td>\n",
       "      <td>positive</td>\n",
       "    </tr>\n",
       "    <tr>\n",
       "      <th>4</th>\n",
       "      <td>x</td>\n",
       "      <td>x</td>\n",
       "      <td>x</td>\n",
       "      <td>x</td>\n",
       "      <td>o</td>\n",
       "      <td>o</td>\n",
       "      <td>b</td>\n",
       "      <td>o</td>\n",
       "      <td>b</td>\n",
       "      <td>positive</td>\n",
       "    </tr>\n",
       "    <tr>\n",
       "      <th>...</th>\n",
       "      <td>...</td>\n",
       "      <td>...</td>\n",
       "      <td>...</td>\n",
       "      <td>...</td>\n",
       "      <td>...</td>\n",
       "      <td>...</td>\n",
       "      <td>...</td>\n",
       "      <td>...</td>\n",
       "      <td>...</td>\n",
       "      <td>...</td>\n",
       "    </tr>\n",
       "    <tr>\n",
       "      <th>953</th>\n",
       "      <td>o</td>\n",
       "      <td>x</td>\n",
       "      <td>x</td>\n",
       "      <td>x</td>\n",
       "      <td>o</td>\n",
       "      <td>o</td>\n",
       "      <td>o</td>\n",
       "      <td>x</td>\n",
       "      <td>x</td>\n",
       "      <td>negative</td>\n",
       "    </tr>\n",
       "    <tr>\n",
       "      <th>954</th>\n",
       "      <td>o</td>\n",
       "      <td>x</td>\n",
       "      <td>o</td>\n",
       "      <td>x</td>\n",
       "      <td>x</td>\n",
       "      <td>o</td>\n",
       "      <td>x</td>\n",
       "      <td>o</td>\n",
       "      <td>x</td>\n",
       "      <td>negative</td>\n",
       "    </tr>\n",
       "    <tr>\n",
       "      <th>955</th>\n",
       "      <td>o</td>\n",
       "      <td>x</td>\n",
       "      <td>o</td>\n",
       "      <td>x</td>\n",
       "      <td>o</td>\n",
       "      <td>x</td>\n",
       "      <td>x</td>\n",
       "      <td>o</td>\n",
       "      <td>x</td>\n",
       "      <td>negative</td>\n",
       "    </tr>\n",
       "    <tr>\n",
       "      <th>956</th>\n",
       "      <td>o</td>\n",
       "      <td>x</td>\n",
       "      <td>o</td>\n",
       "      <td>o</td>\n",
       "      <td>x</td>\n",
       "      <td>x</td>\n",
       "      <td>x</td>\n",
       "      <td>o</td>\n",
       "      <td>x</td>\n",
       "      <td>negative</td>\n",
       "    </tr>\n",
       "    <tr>\n",
       "      <th>957</th>\n",
       "      <td>o</td>\n",
       "      <td>o</td>\n",
       "      <td>x</td>\n",
       "      <td>x</td>\n",
       "      <td>x</td>\n",
       "      <td>o</td>\n",
       "      <td>o</td>\n",
       "      <td>x</td>\n",
       "      <td>x</td>\n",
       "      <td>negative</td>\n",
       "    </tr>\n",
       "  </tbody>\n",
       "</table>\n",
       "<p>958 rows × 10 columns</p>\n",
       "</div>"
      ],
      "text/plain": [
       "    V1 V2 V3 V4 V5 V6 V7 V8 V9       V10\n",
       "0    x  x  x  x  o  o  x  o  o  positive\n",
       "1    x  x  x  x  o  o  o  x  o  positive\n",
       "2    x  x  x  x  o  o  o  o  x  positive\n",
       "3    x  x  x  x  o  o  o  b  b  positive\n",
       "4    x  x  x  x  o  o  b  o  b  positive\n",
       "..  .. .. .. .. .. .. .. .. ..       ...\n",
       "953  o  x  x  x  o  o  o  x  x  negative\n",
       "954  o  x  o  x  x  o  x  o  x  negative\n",
       "955  o  x  o  x  o  x  x  o  x  negative\n",
       "956  o  x  o  o  x  x  x  o  x  negative\n",
       "957  o  o  x  x  x  o  o  x  x  negative\n",
       "\n",
       "[958 rows x 10 columns]"
      ]
     },
     "execution_count": 2,
     "metadata": {},
     "output_type": "execute_result"
    }
   ],
   "source": [
    "df = pd.read_csv('tic-tac-toe.csv', sep=',')\n",
    "df"
   ]
  },
  {
   "cell_type": "code",
   "execution_count": 3,
   "metadata": {},
   "outputs": [
    {
     "data": {
      "text/html": [
       "<div>\n",
       "<style scoped>\n",
       "    .dataframe tbody tr th:only-of-type {\n",
       "        vertical-align: middle;\n",
       "    }\n",
       "\n",
       "    .dataframe tbody tr th {\n",
       "        vertical-align: top;\n",
       "    }\n",
       "\n",
       "    .dataframe thead th {\n",
       "        text-align: right;\n",
       "    }\n",
       "</style>\n",
       "<table border=\"1\" class=\"dataframe\">\n",
       "  <thead>\n",
       "    <tr style=\"text-align: right;\">\n",
       "      <th></th>\n",
       "      <th>V1</th>\n",
       "      <th>V2</th>\n",
       "      <th>V3</th>\n",
       "      <th>V4</th>\n",
       "      <th>V5</th>\n",
       "      <th>V6</th>\n",
       "      <th>V7</th>\n",
       "      <th>V8</th>\n",
       "      <th>V9</th>\n",
       "      <th>V10</th>\n",
       "    </tr>\n",
       "  </thead>\n",
       "  <tbody>\n",
       "    <tr>\n",
       "      <th>count</th>\n",
       "      <td>958</td>\n",
       "      <td>958</td>\n",
       "      <td>958</td>\n",
       "      <td>958</td>\n",
       "      <td>958</td>\n",
       "      <td>958</td>\n",
       "      <td>958</td>\n",
       "      <td>958</td>\n",
       "      <td>958</td>\n",
       "      <td>958</td>\n",
       "    </tr>\n",
       "    <tr>\n",
       "      <th>unique</th>\n",
       "      <td>3</td>\n",
       "      <td>3</td>\n",
       "      <td>3</td>\n",
       "      <td>3</td>\n",
       "      <td>3</td>\n",
       "      <td>3</td>\n",
       "      <td>3</td>\n",
       "      <td>3</td>\n",
       "      <td>3</td>\n",
       "      <td>2</td>\n",
       "    </tr>\n",
       "    <tr>\n",
       "      <th>top</th>\n",
       "      <td>x</td>\n",
       "      <td>x</td>\n",
       "      <td>x</td>\n",
       "      <td>x</td>\n",
       "      <td>x</td>\n",
       "      <td>x</td>\n",
       "      <td>x</td>\n",
       "      <td>x</td>\n",
       "      <td>x</td>\n",
       "      <td>positive</td>\n",
       "    </tr>\n",
       "    <tr>\n",
       "      <th>freq</th>\n",
       "      <td>418</td>\n",
       "      <td>378</td>\n",
       "      <td>418</td>\n",
       "      <td>378</td>\n",
       "      <td>458</td>\n",
       "      <td>378</td>\n",
       "      <td>418</td>\n",
       "      <td>378</td>\n",
       "      <td>418</td>\n",
       "      <td>626</td>\n",
       "    </tr>\n",
       "  </tbody>\n",
       "</table>\n",
       "</div>"
      ],
      "text/plain": [
       "         V1   V2   V3   V4   V5   V6   V7   V8   V9       V10\n",
       "count   958  958  958  958  958  958  958  958  958       958\n",
       "unique    3    3    3    3    3    3    3    3    3         2\n",
       "top       x    x    x    x    x    x    x    x    x  positive\n",
       "freq    418  378  418  378  458  378  418  378  418       626"
      ]
     },
     "execution_count": 3,
     "metadata": {},
     "output_type": "execute_result"
    }
   ],
   "source": [
    "df.describe()"
   ]
  },
  {
   "cell_type": "markdown",
   "metadata": {},
   "source": [
    "## 1.2 Подготовка данных\n",
    "1) преобразуем категориальные данные в бинарные\n",
    "\n",
    "2) cross_validation\n",
    "\n",
    "3) positive, negative в 1 и 0\n",
    "\n",
    "4) отделяем последняю колонку - target feature\n",
    "\n",
    "5) найдем данные при которых target positive и target negative - plus context и minus context "
   ]
  },
  {
   "cell_type": "code",
   "execution_count": 4,
   "metadata": {},
   "outputs": [],
   "source": [
    "import copy\n",
    "def dummy_encode_categorical_columns(data):\n",
    "    result_data = copy.deepcopy(data)\n",
    "    for column in data.columns.values:\n",
    "        result_data = pd.concat([result_data, pd.get_dummies(result_data[column], prefix = column, prefix_sep = ': ')], axis = 1)\n",
    "        del result_data[column]\n",
    "    return result_data\n",
    "df_bool = dummy_encode_categorical_columns(df)\n",
    "# print(df_bool.head())\n",
    "# df_bool.describe()"
   ]
  },
  {
   "cell_type": "markdown",
   "metadata": {},
   "source": [
    "### Cross Validation\n",
    "Makes cross validation of dataset from selected path in N splits and saves to selected path. "
   ]
  },
  {
   "cell_type": "code",
   "execution_count": 5,
   "metadata": {},
   "outputs": [],
   "source": [
    "from sklearn import model_selection\n",
    "import sys\n",
    "\n",
    "def cross_validation(path_in, path_out, n_splits):\n",
    "    \n",
    "    df_prep = path_in\n",
    "    kf = model_selection.KFold(n_splits=n_splits, shuffle=True, random_state=None)\n",
    "    kf.get_n_splits(df_prep)\n",
    "    k = 1\n",
    "    \n",
    "    for train_index, test_index in kf.split(df_prep):\n",
    "        df_prep.iloc[train_index].to_csv('_train_'+str(k)+'.csv',index=False)\n",
    "        df_prep.iloc[test_index].to_csv('_test_'+str(k)+'.csv',index=False)\n",
    "        k += 1\n",
    "        \n",
    "    return 'Cross Validation Completed'"
   ]
  },
  {
   "cell_type": "code",
   "execution_count": 6,
   "metadata": {},
   "outputs": [],
   "source": [
    "def devide_x_y_and_make_bool_y(name):\n",
    "    df = name #pd.read_csv(name)#, sep=',')\n",
    "    df = df.replace(to_replace='positive', value=1)\n",
    "    df = df.replace(to_replace='negative', value=0)\n",
    "    y = np.array(df['V10: positive'], df['V10: negative'])\n",
    "    del df['V10: positive']\n",
    "    del df['V10: negative']\n",
    "    bin_df = dummy_encode_categorical_columns(df)\n",
    "    return np.array(bin_df).astype(int), y\n",
    "    "
   ]
  },
  {
   "cell_type": "code",
   "execution_count": 7,
   "metadata": {},
   "outputs": [],
   "source": [
    "def data_preprocessing(path_train, path_test):\n",
    "    train = pd.read_csv(path_train)\n",
    "    test = pd.read_csv(path_test)\n",
    "        \n",
    "    X_train, y_train = devide_x_y_and_make_bool_y(train)\n",
    "    X_test, y_test = devide_x_y_and_make_bool_y(test)\n",
    "#         print(X_train, y_train)\n",
    "        \n",
    "    X_train_pos = X_train[y_train == 1] #plus_context\n",
    "    X_train_neg = X_train[y_train == 0] #minus_context\n",
    "#         print(X_train_pos, X_train_neg)\n",
    "\n",
    "    return X_train_pos, X_train_neg, X_train, y_train, X_test, y_test"
   ]
  },
  {
   "cell_type": "code",
   "execution_count": 8,
   "metadata": {},
   "outputs": [],
   "source": [
    "#Функция которая из массивов делает sets из строк (), каждой строкой является \"название колонки и элемент (1 или 0)\"   \n",
    "attrib_names = list(df_bool)\n",
    "\n",
    "def make_set(example):\n",
    "    return set([i+':'+str(k) for i, k in zip(attrib_names,example)])"
   ]
  },
  {
   "cell_type": "markdown",
   "metadata": {},
   "source": [
    "### Алгоритм 0 (Very simple)"
   ]
  },
  {
   "cell_type": "code",
   "execution_count": 9,
   "metadata": {},
   "outputs": [],
   "source": [
    "def alg_0(x_test, x_train_pos, x_train_neg):\n",
    "    y_pred = []\n",
    "    for test_obj in x_test:\n",
    "        pos = np.sum(test_obj == x_train_pos) / float(len(x_train_pos))\n",
    "        neg = np.sum(test_obj == x_train_neg) / float(len(x_train_neg))\n",
    "        if (pos > neg):\n",
    "            y_pred.append(1)\n",
    "        else:\n",
    "            y_pred.append(0)\n",
    "    return y_pred"
   ]
  },
  {
   "cell_type": "markdown",
   "metadata": {},
   "source": [
    "### Алгоритм 1"
   ]
  },
  {
   "cell_type": "code",
   "execution_count": 10,
   "metadata": {},
   "outputs": [],
   "source": [
    "import random\n",
    "\n",
    "def alg_1(x_test, x_train_pos, x_train_neg, threshold):\n",
    "    \n",
    "    y_pred = []\n",
    "    clas = 0\n",
    "    \n",
    "    for el in x_test:\n",
    "        labels = {'positive':0, 'negative':0}\n",
    "        x_test_dict = make_set(el)\n",
    "        \n",
    "        for el_pos in x_train_pos:\n",
    "            pos_dict = make_set(el_pos)\n",
    "            intersection = pos_dict & x_test_dict\n",
    "            neg_intersect = [make_set(i) for i in x_train_neg if make_set(i).issuperset(intersection)] #генератор списка:\n",
    "            if len(neg_intersect) > threshold: #порог\n",
    "                labels[\"positive\"] = 0\n",
    "                break\n",
    "        for el_neg in x_train_neg:\n",
    "            neg_string = make_set(el_neg)\n",
    "            intersection = neg_string & x_test_dict\n",
    "            pos_intersect = [make_set(i) for i in x_train_pos if make_set(i).issuperset(intersection)]\n",
    "            if len(pos_intersect) > threshold:\n",
    "                labels[\"negative\"] = 0\n",
    "                break\n",
    "    \n",
    "        if labels[\"positive\"] == labels[\"negative\"]:\n",
    "            clas = random.choice([0,1])\n",
    "        if labels[\"positive\"] > labels[\"negative\"]:\n",
    "            clas = 1\n",
    "        if labels[\"positive\"] < labels[\"negative\"]:\n",
    "            clas = 0\n",
    "        y_pred.append(clas)\n",
    "        \n",
    "    return y_pred"
   ]
  },
  {
   "cell_type": "markdown",
   "metadata": {},
   "source": [
    "### Алгоритм 2"
   ]
  },
  {
   "cell_type": "code",
   "execution_count": 11,
   "metadata": {},
   "outputs": [],
   "source": [
    "def alg_2(x_test, x_train_pos, x_train_neg, threshold_subset, threshold_intersec):\n",
    "    \n",
    "    norm_plus = (len(x_train_pos)+len(x_train_neg))//len(x_train_pos)\n",
    "    norm_minus = (len(x_train_neg)+len(x_train_neg))//len(x_train_neg)\n",
    "    \n",
    "    import warnings\n",
    "    warnings.filterwarnings('ignore')\n",
    "    \n",
    "    y_pred = []\n",
    "    for el in x_test:\n",
    "        labels = {'plus':0, 'minus':0}\n",
    "        x_test_set = make_set(el)\n",
    "        \n",
    "        for el_plus in  x_train_pos:\n",
    "            counter_plus = 0 \n",
    "            x_train_plus_set = make_set(el_plus)\n",
    "            intersec_plus = x_test_set & x_train_plus_set\n",
    "            intersec_plus_len_norm = len(intersec_plus)/len(x_test_set)\n",
    "            \n",
    "            if intersec_plus_len_norm >= threshold_intersec: #в процентах\n",
    "                for el_minus in x_train_neg,:\n",
    "                    x_train_minus_set = make_set(el_minus)\n",
    "                    if x_train_minus_set.issuperset(intersec_plus):#intersec_plus <= x_train_minus_set: \n",
    "                        counter_plus += 1\n",
    "                if counter_plus <= threshold_subset: #в числах\n",
    "                    labels['plus'] += 1\n",
    "                    \n",
    "                    \n",
    "        for ent_minus in x_train_neg,:\n",
    "            counter_minus = 0\n",
    "            x_train_neg_set = make_set(ent_minus)\n",
    "            intersec_minus = x_test_set & x_train_neg_set\n",
    "            intersec_minus_len_norm = len(intersec_minus)/len(x_test_set)\n",
    "            if intersec_minus_len_norm >= threshold_intersec:\n",
    "                for ent_plus in  x_train_pos:\n",
    "                    x_train_pos_set = make_set(ent_plus)\n",
    "                    if intersec_minus <= x_train_pos_set: \n",
    "                        counter_minus += 1\n",
    "                if counter_minus <= threshold_subset:\n",
    "                    labels['minus'] += 1\n",
    "        \n",
    "        labels['plus'] = labels['plus']*norm_plus\n",
    "        labels['minus'] = labels['minus']*norm_minus\n",
    "        if labels['plus'] > labels['minus']:\n",
    "            clas = 1\n",
    "        elif labels['plus'] < labels['minus']:\n",
    "            clas = 0\n",
    "        else:\n",
    "            clas = random.choice([0,1])\n",
    "        y_pred.append(clas)\n",
    "\n",
    "    \n",
    "    return y_pred"
   ]
  },
  {
   "cell_type": "markdown",
   "metadata": {},
   "source": [
    "### Оценка метрик качества (Metrics evaluation)"
   ]
  },
  {
   "cell_type": "code",
   "execution_count": 12,
   "metadata": {},
   "outputs": [],
   "source": [
    "from sklearn.metrics import accuracy_score\n",
    "from sklearn.metrics import precision_score\n",
    "from sklearn.metrics import recall_score\n",
    "from sklearn.metrics import roc_auc_score"
   ]
  },
  {
   "cell_type": "code",
   "execution_count": 13,
   "metadata": {},
   "outputs": [],
   "source": [
    "def metrics_test(y_test, y_pred):\n",
    "    \n",
    "    y_test = np.array(y_test)\n",
    "    y_pred = np.array(y_pred)\n",
    "    \n",
    "    TP = np.sum(y_test * y_pred)\n",
    "    TN = np.sum(y_test + y_pred == 0)\n",
    "    FP = np.sum((y_test  == 0) * (y_pred == 1))\n",
    "    FN = np.sum((y_test  == 1) * (y_pred == 0))\n",
    "    TPR = float(TP) / np.sum(y_test == 1)\n",
    "    TNR = float(TN) / np.sum(y_test == 0)\n",
    "    FPR = float(FP) / (TP + FN)\n",
    "    NPV = float(TN) / (TN + FN)\n",
    "    FDR = float(FP) / (TP + FP)\n",
    "    acc = accuracy_score(y_test, y_pred)\n",
    "    prec = precision_score(y_test, y_pred)\n",
    "    rec = recall_score(y_test, y_pred)\n",
    "    roc_auc = roc_auc_score(y_test, y_pred)\n",
    "    \n",
    "    return TP, TN, FP, FN, TPR, TNR, FPR, NPV, FDR, acc, prec, rec, roc_auc"
   ]
  },
  {
   "cell_type": "code",
   "execution_count": 14,
   "metadata": {},
   "outputs": [],
   "source": [
    "def print_metrics(metrics):\n",
    "    \n",
    "    print('True Positive: {:.4f}'.format(metrics[0]))\n",
    "    print('True Negative: {:.4f}'.format(metrics[1]))\n",
    "    print('False Positive: {:.4f}'.format(metrics[2]))\n",
    "    print('False Negativee: {:.4f}'.format(metrics[3]))\n",
    "    print('True Positive Rate: {:.4f}'.format(metrics[4]))\n",
    "    print('True Negative Rate: {:.4f}'.format(metrics[5]))\n",
    "    print('False Positive Rate: {:.4f}'.format(metrics[6]))\n",
    "    print('Negative Predictive Value: {:.4f}'.format(metrics[7]))\n",
    "    print('False Discovery Rate: {:.4f}'.format(metrics[8]))\n",
    "    print('Accuracy score: {:.4f}'.format(metrics[9]))\n",
    "    print('Precision Score: {:.4f}'.format(metrics[10]))\n",
    "    print('Recall Score: {:.4f}'.format(metrics[11]))\n",
    "    print('Roc AUC Score: {:.4f}'.format(metrics[3]))\n",
    "    "
   ]
  },
  {
   "cell_type": "markdown",
   "metadata": {},
   "source": [
    "## Launching and evaluating algorithms"
   ]
  },
  {
   "cell_type": "code",
   "execution_count": 15,
   "metadata": {},
   "outputs": [],
   "source": [
    "from tqdm.notebook import tqdm as tq\n",
    "\n",
    "def main(alg_n, n_splits):\n",
    "    \n",
    "#     # time on\n",
    "    import timeit\n",
    "    start = timeit.default_timer()\n",
    "    \n",
    "    y_pred_arr = []\n",
    "    # 1. step - Cross Validation\n",
    "    path_out = './'\n",
    "    cross_validation(path_in=df_bool,\n",
    "                        path_out = path_out,\n",
    "                        n_splits=n_splits)\n",
    "    metrics = []\n",
    "    # 2. step - Data Preprocessing\n",
    "    for i in tq(range(1,n_splits+1)):\n",
    "        path_train = r'_train_'+str(i)+r'.csv' \n",
    "        path_test = r'_test_'+str(i)+r'.csv'\n",
    "        X_train_pos, X_train_neg, X_train, y_train, X_test, y_test = data_preprocessing(path_train = path_train,\n",
    "                                                                                        path_test = path_test)\n",
    "        # 3. step - Launching algorithms\n",
    "        if alg_n == 0:\n",
    "            y_pred = alg_0(X_test, X_train_pos, X_train_neg)\n",
    "            \n",
    "        if alg_n == 1:\n",
    "            y_pred = alg_1(X_test, X_train_pos, X_train_neg, threshold=0)\n",
    "            \n",
    "        if alg_n == 2:\n",
    "            y_pred = alg_2(X_test, X_train_pos, X_train_neg, threshold_subset= 1, threshold_intersec=0.7)\n",
    "        \n",
    "        # 4. step - Evaluating algorithms\n",
    "        metrics_ = []\n",
    "        TP, TN, FP, FN, TPR, TNR, FPR, NPV, FDR, acc, prec, rec, roc_auc = metrics_test(y_test=y_test, y_pred=y_pred)\n",
    "        for metric in [TP, TN, FP, FN, TPR, TNR, FPR, NPV, FDR, acc, prec, rec, roc_auc]:\n",
    "            metrics_.append(metric)\n",
    "        metrics.append(metrics_)\n",
    "\n",
    "    avg_metrics = np.mean(np.array(metrics), axis=0)\n",
    "    \n",
    "#     # time off    \n",
    "    stop = timeit.default_timer()\n",
    "    time = stop - start\n",
    "    print ('Algorithm runtime: {}'.format(time))\n",
    "    return avg_metrics"
   ]
  },
  {
   "cell_type": "code",
   "execution_count": 29,
   "metadata": {},
   "outputs": [
    {
     "data": {
      "application/vnd.jupyter.widget-view+json": {
       "model_id": "66accfd4315c44e5a1ac73df1c8df294",
       "version_major": 2,
       "version_minor": 0
      },
      "text/plain": [
       "A Jupyter Widget"
      ]
     },
     "metadata": {},
     "output_type": "display_data"
    },
    {
     "name": "stdout",
     "output_type": "stream",
     "text": [
      "\n",
      "Algorithm runtime: 1.5760992000000442\n",
      "True Positive: 101.0000\n",
      "True Negative: 57.5000\n",
      "False Positive: 25.5000\n",
      "False Negativee: 55.5000\n",
      "True Positive Rate: 0.6451\n",
      "True Negative Rate: 0.6928\n",
      "False Positive Rate: 0.1632\n",
      "Negative Predictive Value: 0.5084\n",
      "False Discovery Rate: 0.2015\n",
      "Accuracy score: 0.6618\n",
      "Precision Score: 0.7985\n",
      "Recall Score: 0.6451\n",
      "Roc AUC Score: 0.6690\n"
     ]
    }
   ],
   "source": [
    "# Algoritm 0 \n",
    "metrics = main(alg_n=0, n_splits = 4)\n",
    "print_metrics(metrics)"
   ]
  },
  {
   "cell_type": "code",
   "execution_count": 16,
   "metadata": {
    "scrolled": true
   },
   "outputs": [
    {
     "data": {
      "application/vnd.jupyter.widget-view+json": {
       "model_id": "6a27ff2ab66c4e15af3c144c746060b1",
       "version_major": 2,
       "version_minor": 0
      },
      "text/plain": [
       "HBox(children=(HTML(value=''), FloatProgress(value=0.0, max=4.0), HTML(value='')))"
      ]
     },
     "metadata": {},
     "output_type": "display_data"
    },
    {
     "name": "stdout",
     "output_type": "stream",
     "text": [
      "\n",
      "Algorithm runtime: 98.49571789999999\n",
      "True Positive: 83.5000\n",
      "True Negative: 40.7500\n",
      "False Positive: 42.2500\n",
      "False Negativee: 73.0000\n",
      "True Positive Rate: 0.5336\n",
      "True Negative Rate: 0.4930\n",
      "False Positive Rate: 0.2721\n",
      "Negative Predictive Value: 0.3590\n",
      "False Discovery Rate: 0.3357\n",
      "Accuracy score: 0.5188\n",
      "Precision Score: 0.6643\n",
      "Recall Score: 0.5336\n",
      "Roc AUC Score: 73.0000\n"
     ]
    }
   ],
   "source": [
    "# Algoritm 1 \n",
    "metrics = main(alg_n=1, n_splits = 4)\n",
    "print_metrics(metrics)"
   ]
  },
  {
   "cell_type": "code",
   "execution_count": 24,
   "metadata": {},
   "outputs": [
    {
     "data": {
      "application/vnd.jupyter.widget-view+json": {
       "model_id": "c9ccc7c817d648278c97a3badfdff128",
       "version_major": 2,
       "version_minor": 0
      },
      "text/plain": [
       "A Jupyter Widget"
      ]
     },
     "metadata": {},
     "output_type": "display_data"
    },
    {
     "name": "stdout",
     "output_type": "stream",
     "text": [
      "\n",
      "Algorithm runtime: 831.2897407\n",
      "True Positive: 156.5000\n",
      "True Negative: 0.0000\n",
      "False Positive: 83.0000\n",
      "False Negativee: 0.0000\n",
      "True Positive Rate: 1.0000\n",
      "True Negative Rate: 0.0000\n",
      "False Positive Rate: 0.5338\n",
      "Negative Predictive Value: nan\n",
      "False Discovery Rate: 0.3466\n",
      "Accuracy score: 0.6534\n",
      "Precision Score: 0.6534\n",
      "Recall Score: 1.0000\n",
      "Roc AUC Score: 0.5000\n"
     ]
    }
   ],
   "source": [
    "# Algoritm 2 \n",
    "metrics = main(alg_n=2, n_splits = 4)\n",
    "print_metrics(metrics)"
   ]
  }
 ],
 "metadata": {
  "kernelspec": {
   "display_name": "Python 3",
   "language": "python",
   "name": "python3"
  },
  "language_info": {
   "codemirror_mode": {
    "name": "ipython",
    "version": 3
   },
   "file_extension": ".py",
   "mimetype": "text/x-python",
   "name": "python",
   "nbconvert_exporter": "python",
   "pygments_lexer": "ipython3",
   "version": "3.7.3"
  }
 },
 "nbformat": 4,
 "nbformat_minor": 1
}
