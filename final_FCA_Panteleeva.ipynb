{
 "cells": [
  {
   "cell_type": "markdown",
   "metadata": {},
   "source": [
    "# Panteleeva Svetlana"
   ]
  },
  {
   "cell_type": "markdown",
   "metadata": {},
   "source": [
    "## 1. Data preparation "
   ]
  },
  {
   "cell_type": "code",
   "execution_count": 175,
   "metadata": {},
   "outputs": [],
   "source": [
    "import pandas as pd\n",
    "import numpy as np"
   ]
  },
  {
   "cell_type": "markdown",
   "metadata": {},
   "source": [
    "### Dataset 1 : Tic-Tac-Toe\n",
    "https://archive.ics.uci.edu/ml/datasets/Tic-Tac-Toe+Endgame"
   ]
  },
  {
   "cell_type": "code",
   "execution_count": 565,
   "metadata": {},
   "outputs": [],
   "source": [
    "df_1 = pd.read_csv('tic-tac-toe.csv', sep=',')\n",
    "df_1.rename(columns={'V10': 'Y'}, inplace=True)\n",
    "df_1 = df_1.replace(to_replace='positive', value=1)\n",
    "df_1 = df_1.replace(to_replace='negative', value=0)\n",
    "df_dummy_1 = pd.get_dummies(df_1)"
   ]
  },
  {
   "cell_type": "markdown",
   "metadata": {},
   "source": [
    "### Dataset 2 : Bank Marketing\n",
    "https://archive.ics.uci.edu/ml/datasets/Bank+Marketing"
   ]
  },
  {
   "cell_type": "code",
   "execution_count": 566,
   "metadata": {},
   "outputs": [],
   "source": [
    "data = pd.read_csv('bank-additional.csv', sep=';')\n",
    "#Переименование целевой метки в \"Y\"\n",
    "data.rename(columns={'y': 'Y'}, inplace=True)\n",
    "#Удаление missing value\n",
    "data = data[data['job'] != 'unknown']\n",
    "data = data[data['marital'] != 'unknown']\n",
    "data = data[data['education'] != 'unknown']\n",
    "data = data[data['default'] != 'unknown']\n",
    "data = data[data['housing'] != 'unknown']\n",
    "data = data[data['duration'] != 0]\n",
    "#Преобразование числовых данных в категориальные\n",
    "data['Age_c'] = pd.qcut(data['age'], 3)\n",
    "data['ec1'] = pd.qcut(data['emp.var.rate'], 2)\n",
    "data['ec2'] = pd.qcut(data['cons.price.idx'], 3)\n",
    "data['ec3'] = pd.qcut(data['cons.conf.idx'], 3)\n",
    "data['ec4'] = pd.qcut(data['euribor3m'], 3)\n",
    "data['ec5'] = pd.qcut(data['nr.employed'], 2)\n",
    "data['c'] = pd.qcut(data['campaign'], 2)\n",
    "data['d'] = pd.qcut(data['duration'], 4)\n",
    "df_2 = data.drop(['age','emp.var.rate','cons.price.idx','cons.conf.idx','euribor3m','nr.employed','campaign','duration'],axis = 1)\n",
    "#Преобразование категориальных в бинарные\n",
    "df_2 = df_2.replace(to_replace='yes', value=1)\n",
    "df_2 = df_2.replace(to_replace='no', value=0)\n",
    "df_2.loc[df_2['pdays'] != 999,'pdays'] = 1\n",
    "df_2.loc[df_2['pdays'] == 999,'pdays'] = 0\n",
    "df_2.loc[df_2['previous'] != 0,'previous'] = 1\n",
    "df_2.loc[df_2['previous'] == 0,'previous'] = 0\n",
    "df_dummy_2 = pd.get_dummies(df_2)"
   ]
  },
  {
   "cell_type": "markdown",
   "metadata": {},
   "source": [
    "### Dataset 3: Early stage diabetes risk prediction dataset\n",
    "https://archive.ics.uci.edu/ml/datasets/Early+stage+diabetes+risk+prediction+dataset."
   ]
  },
  {
   "cell_type": "code",
   "execution_count": 567,
   "metadata": {},
   "outputs": [],
   "source": [
    "df_2 = pd.read_csv('diabetes_data_upload.csv', sep=',')\n",
    "#Переименование целевой метки в \"Y\"\n",
    "df_2.rename(columns={'class': 'Y'}, inplace=True)\n",
    "#Преобразование числовых данных в категориальные\n",
    "df_2['Age'] = pd.qcut(df_2['Age'], 4)\n",
    "#Преобразование категориальных в бинарные\n",
    "df_2 = df_2.replace(to_replace='Yes', value=1)\n",
    "df_2 = df_2.replace(to_replace='No', value=0)\n",
    "df_2 = df_2.replace(to_replace='Positive', value=1)\n",
    "df_2 = df_2.replace(to_replace='Negative', value=0)\n",
    "df_2 = df_2.replace(to_replace='Male', value=1)\n",
    "df_2 = df_2.replace(to_replace='Female', value=0)\n",
    "df_dummy_2 = pd.get_dummies(df_2)"
   ]
  },
  {
   "cell_type": "markdown",
   "metadata": {},
   "source": [
    "### Cross Validation\n",
    "Makes cross validation of prepared dataset in N splits and saves to selected path. "
   ]
  },
  {
   "cell_type": "code",
   "execution_count": 385,
   "metadata": {},
   "outputs": [],
   "source": [
    "from sklearn import model_selection\n",
    "import sys\n",
    "\n",
    "def cross_validation(path_in, path_out, n_splits):\n",
    "    \n",
    "    df_prep = path_in\n",
    "    kf = model_selection.KFold(n_splits=n_splits, shuffle=True, random_state=None)\n",
    "    kf.get_n_splits(df_prep)\n",
    "    k = 1\n",
    "    \n",
    "    for train_index, test_index in kf.split(df_prep):\n",
    "        df_prep.iloc[train_index].to_csv('_train_'+str(k)+'.csv',index=False)\n",
    "        df_prep.iloc[test_index].to_csv('_test_'+str(k)+'.csv',index=False)\n",
    "        k += 1\n",
    "        \n",
    "    return 'Cross Validation Completed'"
   ]
  },
  {
   "cell_type": "code",
   "execution_count": 510,
   "metadata": {},
   "outputs": [
    {
     "data": {
      "text/plain": [
       "'Cross Validation Completed'"
      ]
     },
     "execution_count": 510,
     "metadata": {},
     "output_type": "execute_result"
    }
   ],
   "source": [
    "# path_out = './'\n",
    "# cross_validation(path_in=df_dummy_2,\n",
    "#                  path_out = path_out,\n",
    "#                  n_splits=6)"
   ]
  },
  {
   "cell_type": "markdown",
   "metadata": {},
   "source": [
    "### Separate X from Y. Create plus_context and minus_context. Make a required format. "
   ]
  },
  {
   "cell_type": "code",
   "execution_count": 180,
   "metadata": {},
   "outputs": [],
   "source": [
    "def data_preprocessing(path_train, path_test):\n",
    "    train = pd.read_csv(path_train)\n",
    "    test = pd.read_csv(path_test)\n",
    "    \n",
    "    X_train = train.drop(['Y'], axis=1).to_numpy()\n",
    "    y_train = train['Y'].to_numpy()\n",
    "    X_test = test.drop(['Y'], axis=1).to_numpy()\n",
    "    y_test = test['Y'].to_numpy()\n",
    "        \n",
    "    X_train_pos = X_train[y_train == 1] #plus_context\n",
    "    X_train_neg = X_train[y_train == 0] #minus_context\n",
    "#         print(X_train_pos, X_train_neg)\n",
    "\n",
    "    return X_train_pos, X_train_neg, X_train, y_train, X_test, y_test"
   ]
  },
  {
   "cell_type": "code",
   "execution_count": 498,
   "metadata": {},
   "outputs": [],
   "source": [
    "#Функция которая из массивов делает set{} из строк, каждой строкой является: 'название колонки:элемент(1 или 0)'  \n",
    "def make_set(example, dataset):\n",
    "    if dataset == 1:\n",
    "        attrib_names = list(pd.get_dummies(df_1.drop(['Y'], axis=1)))\n",
    "    if dataset == 2:\n",
    "        attrib_names = list(pd.get_dummies(df_2.drop(['Y'], axis=1)))     \n",
    "    return set([i+':'+str(k) for i, k in zip(attrib_names,example)])"
   ]
  },
  {
   "cell_type": "markdown",
   "metadata": {},
   "source": [
    "# 2. Algorithms"
   ]
  },
  {
   "cell_type": "markdown",
   "metadata": {},
   "source": [
    "### Algorithm 1 \n",
    "Алгоритм на основе системы голосования. Пример из плюс контекста голосует за положительную классификацию, если пересечение его описания с описаниями классифицируемых объектов, вкладывается не более, чем определенное кол-во раз (threshold_subset) в описание объектов из минус-контекста. (= Длина списка, составленная из тех описаний объектов из минус-контекста, подмножествами которых являются пересечения описаний плюс-контекста и тестового, не больше определенного числа). И наоборот.   \n",
    "\n",
    "Algorithm based on the voting system. Every plus context objects votes for a positive classification if the intersection of its description with the descriptions of classified objects is nested no more than a certain threshold number of times (threshold_subset) in the description of minus context objects. \n",
    "(= The length of the list, composed of such descriptions of minus-context objects, the subsets of which are the intersections of the descriptions of the plus-context and the test object, is not more than a certain number). And vice versa.\n",
    "\n",
    "Test object classifies positive, if there is more votes for plus classification (and vice versa)."
   ]
  },
  {
   "cell_type": "code",
   "execution_count": 482,
   "metadata": {},
   "outputs": [],
   "source": [
    "def alg_1(x_test, x_train_pos, x_train_neg, dataset, threshold_subset):\n",
    "    \n",
    "    y_pred = []\n",
    "    clas = 0\n",
    "    random_counter = 0\n",
    "    for el in x_test:\n",
    "        eintent = make_set(el, dataset)\n",
    "        labels = {\"positive\": 0, \"negative\": 0}\n",
    "        for e in x_train_pos:\n",
    "            ei = make_set(e, dataset)\n",
    "            candidate_intent = ei & eintent\n",
    "            closure = [make_set(i, dataset) for i in x_train_neg if make_set(i, dataset).issuperset(candidate_intent)]\n",
    "            #closure -  это список из объектов минус контекта (только тех в которые входит пересечение)\n",
    "            if len(closure) <= threshold_subset:\n",
    "                labels[\"positive\"] += 1\n",
    "            \n",
    "        for e in x_train_neg:\n",
    "            ei = make_set(e, dataset)\n",
    "            candidate_intent = ei & eintent\n",
    "            closure = [make_set(i, dataset) for i in x_train_pos if make_set(i, dataset).issuperset(candidate_intent)]\n",
    "            if len(closure) <= threshold_subset:\n",
    "                labels[\"negative\"] += 1\n",
    "\n",
    "        labels[\"positive\"] = float(labels[\"positive\"]) / len(x_train_pos)\n",
    "        labels[\"negative\"] = float(labels[\"negative\"]) / len(x_train_neg)\n",
    "\n",
    "        if labels[\"positive\"] == labels[\"negative\"]:\n",
    "#             clas = random.choice([0,1])\n",
    "            clas = int(str(datetime.now())[17:19])\n",
    "            clas %= 2\n",
    "            random_counter += 1\n",
    "        if labels[\"positive\"] > labels[\"negative\"]:\n",
    "            clas = 1\n",
    "        if labels[\"negative\"] > labels[\"positive\"]:\n",
    "            clas = 0\n",
    "        y_pred.append(clas)\n",
    "        random_norm = random_counter/len(x_test)\n",
    "    \n",
    "    return y_pred, random_norm"
   ]
  },
  {
   "cell_type": "markdown",
   "metadata": {},
   "source": [
    "### Algorithm 2 \n",
    "Algorithm classifies test object by maximum subset of intersection of descriptions of plus context object and test object in descriptions of minus context object. And vice versa.\n",
    "It has threshold_intersec, which controls, how many elements can be in plus/minus context and test sets intersection.\n",
    "\n",
    "Алгоритм классифицирует тестовый объект положительно по максимальному подмножеству пересечения описания плюс контекста и тестового объекта в описании минус контекста. Eсли относительный размер пересечения описания объекта из плюсового контекста с описанием тестового объектом (пороговое число в процентах от тестового) больше определенного числа threshold_intersec.\n",
    "\n",
    "Test object classifies positive, if there is more votes for plus classification (and vice versa)."
   ]
  },
  {
   "cell_type": "code",
   "execution_count": 501,
   "metadata": {},
   "outputs": [],
   "source": [
    "def alg_2(x_test, x_train_pos, x_train_neg, dataset, threshold_intersec):\n",
    "    \n",
    "    norm_plus = (len(x_train_pos)+len(x_train_neg))//len(x_train_pos)\n",
    "    norm_minus = (len(x_train_neg)+len(x_train_neg))//len(x_train_neg)\n",
    "    y_pred = []\n",
    "    random_counter = 0\n",
    "    \n",
    "    for el in x_test:\n",
    "        x_test_set = make_set(el, dataset)\n",
    "        max_subset_pos = 0\n",
    "        max_subset_neg = 0\n",
    "        for e in x_train_pos:\n",
    "            counter_plus = 0 \n",
    "            ei = make_set(e, dataset)\n",
    "            candidate_intent = ei & x_test_set\n",
    "            intersec_plus_len_norm = len(candidate_intent)/len(x_test_set)\n",
    "            if intersec_plus_len_norm < threshold_intersec:\n",
    "                continue  \n",
    "            closure = [make_set(i, dataset) for i in x_train_neg if make_set(i, dataset).issuperset(candidate_intent)]                      \n",
    "            if closure:\n",
    "                counter_plus +=1 \n",
    "                max_subset_pos = max(counter_plus, max_subset_pos) \n",
    "       \n",
    "        for e in x_train_neg:\n",
    "            counter_minus = 0 \n",
    "            ei = make_set(e, dataset)\n",
    "            candidate_intent = ei & x_test_set\n",
    "            intersec_plus_len_norm = len(candidate_intent)/len(x_test_set)\n",
    "            if intersec_plus_len_norm < threshold_intersec:\n",
    "                continue\n",
    "            closure = [make_set(i, dataset) for i in x_train_pos if make_set(i, dataset).issuperset(candidate_intent)]\n",
    "            if closure:\n",
    "                counter_minus +=1\n",
    "                max_subset_neg = max(counter_minus,max_subset_neg)\n",
    "\n",
    "        if max_subset_pos<max_subset_neg:\n",
    "            y_pred.append(0)\n",
    "        if max_subset_pos>max_subset_neg:\n",
    "            y_pred.append(1)\n",
    "        if max_subset_pos==max_subset_neg:\n",
    "            random_counter += 1\n",
    "            A = int(str(datetime.now())[17:19])\n",
    "            A %= 2\n",
    "            y_pred.append(A)\n",
    "#         y_pred.append(max_subset_pos<max_subset_neg)\n",
    "#         y_pred_=np.where(y_pred,1,0)\n",
    "           \n",
    "    random_norm = 1 - random_counter/len(x_test)\n",
    "    \n",
    "    return y_pred, random_norm"
   ]
  },
  {
   "cell_type": "markdown",
   "metadata": {},
   "source": [
    "# 3. Metrics evaluation"
   ]
  },
  {
   "cell_type": "code",
   "execution_count": 190,
   "metadata": {},
   "outputs": [],
   "source": [
    "from sklearn.metrics import accuracy_score\n",
    "from sklearn.metrics import precision_score\n",
    "from sklearn.metrics import recall_score\n",
    "from sklearn.metrics import roc_auc_score"
   ]
  },
  {
   "cell_type": "code",
   "execution_count": 217,
   "metadata": {},
   "outputs": [],
   "source": [
    "def metrics_test(y_test, y_pred):\n",
    "    \n",
    "    y_test = np.array(y_test)\n",
    "    y_pred = np.array(y_pred)\n",
    "    \n",
    "    TP = np.sum(y_test * y_pred)\n",
    "    TN = np.sum(y_test + y_pred == 0)\n",
    "    FP = np.sum((y_test  == 0) * (y_pred == 1))\n",
    "    FN = np.sum((y_test  == 1) * (y_pred == 0))\n",
    "    TPR = float(TP) / np.sum(y_test == 1)\n",
    "    TNR = float(TN) / np.sum(y_test == 0)\n",
    "    FPR = float(FP) / (TP + FN)\n",
    "    NPV = float(TN) / (TN + FN)\n",
    "    FDR = float(FP) / (TP + FP)\n",
    "    acc = accuracy_score(y_test, y_pred) #(TP + TN) / (TP + TN + FP + FN)\n",
    "    prec = precision_score(y_test, y_pred) #= TP / (TP + FP)\n",
    "    rec = recall_score(y_test, y_pred) #= TP / (TP + FN)\n",
    "    roc_auc = roc_auc_score(y_test, y_pred)\n",
    "    \n",
    "    return TP, TN, FP, FN, TPR, TNR, FPR, NPV, FDR, acc, prec, rec, roc_auc"
   ]
  },
  {
   "cell_type": "code",
   "execution_count": 218,
   "metadata": {},
   "outputs": [],
   "source": [
    "def print_metrics(metrics):\n",
    "    \n",
    "    print('True Positive: {:.4f}'.format(metrics[0]))\n",
    "    print('True Negative: {:.4f}'.format(metrics[1]))\n",
    "    print('False Positive: {:.4f}'.format(metrics[2]))\n",
    "    print('False Negativee: {:.4f}'.format(metrics[3]))\n",
    "    print('True Positive Rate: {:.4f}'.format(metrics[4]))\n",
    "    print('True Negative Rate: {:.4f}'.format(metrics[5]))\n",
    "    print('False Positive Rate: {:.4f}'.format(metrics[6]))\n",
    "    print('Negative Predictive Value: {:.4f}'.format(metrics[7]))\n",
    "    print('False Discovery Rate: {:.4f}'.format(metrics[8]))\n",
    "    print('Accuracy score: {:.4f}'.format(metrics[9]))\n",
    "    print('Precision Score: {:.4f}'.format(metrics[10]))\n",
    "    print('Recall Score: {:.4f}'.format(metrics[11]))\n",
    "    print('Roc AUC Score: {:.4f}'.format(metrics[12]))"
   ]
  },
  {
   "cell_type": "markdown",
   "metadata": {},
   "source": [
    "# 4. Launching and evaluating algorithms"
   ]
  },
  {
   "cell_type": "code",
   "execution_count": 502,
   "metadata": {},
   "outputs": [],
   "source": [
    "from tqdm.notebook import tqdm as tq\n",
    "import matplotlib.pyplot as plt\n",
    "from datetime import datetime\n",
    "\n",
    "def main(alg_n, n_splits, dataset, threshold_subset=0, threshold_intersec=0.7):\n",
    "    \n",
    "    # time on\n",
    "    import timeit\n",
    "    start = timeit.default_timer()\n",
    "    \n",
    "    # 1. step - Cross Validation\n",
    "    path_out = './'     \n",
    "    cross_validation(path_in=pd.get_dummies(df_1 if dataset == 1 else df_2),#df_bool\n",
    "                        path_out = path_out,\n",
    "                        n_splits=n_splits)    \n",
    "\n",
    "    metrics = []\n",
    "    # 2. step - Data Preprocessing\n",
    "    for i in tq(range(1,n_splits+1)):\n",
    "        path_train = r'_train_'+str(i)+r'.csv' \n",
    "        path_test = r'_test_'+str(i)+r'.csv'\n",
    "        X_train_pos, X_train_neg, X_train, y_train, X_test, y_test = data_preprocessing(path_train,\n",
    "                                                                                        path_test)\n",
    "        # 3. step - Launching algorithms\n",
    "        if alg_n == 1:\n",
    "            y_pred, randoms = alg_1(X_test, X_train_pos, X_train_neg, dataset, threshold_subset=0 )\n",
    "            \n",
    "        if alg_n == 2:\n",
    "            y_pred, randoms = alg_2(X_test, X_train_pos, X_train_neg, dataset, threshold_intersec=0 )\n",
    "    \n",
    "        if alg_n == 'bernoulliNB':\n",
    "            from sklearn.preprocessing import LabelBinarizer\n",
    "#             from sklearn.naive_bayes import BernoulliNB\n",
    "            clf = BernoulliNB()\n",
    "            clf.fit(X_train, y_train)\n",
    "            y_pred = clf.predict(X_test)\n",
    "            randoms = 0\n",
    "        \n",
    "        # 4. step - Evaluating algorithms\n",
    "        metrics_ = []\n",
    "        TP, TN, FP, FN, TPR, TNR, FPR, NPV, FDR, acc, prec, rec, roc_auc = metrics_test(y_test=y_test, y_pred=y_pred)\n",
    "        for metric in [TP, TN, FP, FN, TPR, TNR, FPR, NPV, FDR, acc, prec, rec, roc_auc]:\n",
    "            metrics_.append(metric)\n",
    "        metrics.append(metrics_)\n",
    "\n",
    "    avg_metrics = np.mean(np.array(metrics), axis=0)\n",
    "    \n",
    "    # time off    \n",
    "    stop = timeit.default_timer()\n",
    "    time = stop - start\n",
    "    print ('Algorithm runtime: {}'.format(time))\n",
    "    return avg_metrics, randoms"
   ]
  },
  {
   "cell_type": "markdown",
   "metadata": {},
   "source": [
    "# 5. Find optimal parameters"
   ]
  },
  {
   "cell_type": "markdown",
   "metadata": {},
   "source": [
    "## Tic-Tac-Toe Dataset\n",
    "### Algorithm 1"
   ]
  },
  {
   "cell_type": "code",
   "execution_count": 205,
   "metadata": {
    "collapsed": true
   },
   "outputs": [
    {
     "data": {
      "application/vnd.jupyter.widget-view+json": {
       "model_id": "5ad4e438e2434d0a8bb32d62bff29d5e",
       "version_major": 2,
       "version_minor": 0
      },
      "text/plain": [
       "HBox(children=(HTML(value=''), FloatProgress(value=0.0, max=4.0), HTML(value='')))"
      ]
     },
     "metadata": {},
     "output_type": "display_data"
    },
    {
     "name": "stdout",
     "output_type": "stream",
     "text": [
      "\n",
      "Algorithm runtime: 162.9939171000151\n"
     ]
    },
    {
     "data": {
      "application/vnd.jupyter.widget-view+json": {
       "model_id": "2844762aaa004d28935804d6cf7c395b",
       "version_major": 2,
       "version_minor": 0
      },
      "text/plain": [
       "HBox(children=(HTML(value=''), FloatProgress(value=0.0, max=4.0), HTML(value='')))"
      ]
     },
     "metadata": {},
     "output_type": "display_data"
    },
    {
     "name": "stdout",
     "output_type": "stream",
     "text": [
      "\n",
      "Algorithm runtime: 109.51542420001351\n"
     ]
    },
    {
     "data": {
      "application/vnd.jupyter.widget-view+json": {
       "model_id": "037593b261584211b60b48569e9b718a",
       "version_major": 2,
       "version_minor": 0
      },
      "text/plain": [
       "HBox(children=(HTML(value=''), FloatProgress(value=0.0, max=4.0), HTML(value='')))"
      ]
     },
     "metadata": {},
     "output_type": "display_data"
    },
    {
     "name": "stdout",
     "output_type": "stream",
     "text": [
      "\n",
      "Algorithm runtime: 109.356288400013\n"
     ]
    },
    {
     "data": {
      "application/vnd.jupyter.widget-view+json": {
       "model_id": "625c65c22ee04cf4a0a7da6ba2e50e24",
       "version_major": 2,
       "version_minor": 0
      },
      "text/plain": [
       "HBox(children=(HTML(value=''), FloatProgress(value=0.0, max=4.0), HTML(value='')))"
      ]
     },
     "metadata": {},
     "output_type": "display_data"
    },
    {
     "name": "stdout",
     "output_type": "stream",
     "text": [
      "\n",
      "Algorithm runtime: 106.16987700000755\n"
     ]
    },
    {
     "data": {
      "application/vnd.jupyter.widget-view+json": {
       "model_id": "d532d7832a9b41d483786f68cc30e94a",
       "version_major": 2,
       "version_minor": 0
      },
      "text/plain": [
       "HBox(children=(HTML(value=''), FloatProgress(value=0.0, max=4.0), HTML(value='')))"
      ]
     },
     "metadata": {},
     "output_type": "display_data"
    },
    {
     "name": "stdout",
     "output_type": "stream",
     "text": [
      "\n",
      "Algorithm runtime: 136.51104120002128\n"
     ]
    },
    {
     "data": {
      "application/vnd.jupyter.widget-view+json": {
       "model_id": "6fc78ca84d5f496f9b51c7dedc8165e0",
       "version_major": 2,
       "version_minor": 0
      },
      "text/plain": [
       "HBox(children=(HTML(value=''), FloatProgress(value=0.0, max=4.0), HTML(value='')))"
      ]
     },
     "metadata": {},
     "output_type": "display_data"
    },
    {
     "name": "stdout",
     "output_type": "stream",
     "text": [
      "\n",
      "Algorithm runtime: 119.78029779999633\n"
     ]
    },
    {
     "data": {
      "application/vnd.jupyter.widget-view+json": {
       "model_id": "d1688d85ef45454bbc2933bb6d8ad43f",
       "version_major": 2,
       "version_minor": 0
      },
      "text/plain": [
       "HBox(children=(HTML(value=''), FloatProgress(value=0.0, max=4.0), HTML(value='')))"
      ]
     },
     "metadata": {},
     "output_type": "display_data"
    },
    {
     "name": "stdout",
     "output_type": "stream",
     "text": [
      "\n",
      "Algorithm runtime: 107.05741919999127\n"
     ]
    },
    {
     "data": {
      "application/vnd.jupyter.widget-view+json": {
       "model_id": "7b2de7a18200466382f6f342c236ee4c",
       "version_major": 2,
       "version_minor": 0
      },
      "text/plain": [
       "HBox(children=(HTML(value=''), FloatProgress(value=0.0, max=4.0), HTML(value='')))"
      ]
     },
     "metadata": {},
     "output_type": "display_data"
    },
    {
     "name": "stdout",
     "output_type": "stream",
     "text": [
      "\n",
      "Algorithm runtime: 105.98633300000802\n"
     ]
    },
    {
     "data": {
      "application/vnd.jupyter.widget-view+json": {
       "model_id": "69f770cc39c64fe9a22e1c1c2f98eda3",
       "version_major": 2,
       "version_minor": 0
      },
      "text/plain": [
       "HBox(children=(HTML(value=''), FloatProgress(value=0.0, max=4.0), HTML(value='')))"
      ]
     },
     "metadata": {},
     "output_type": "display_data"
    },
    {
     "name": "stdout",
     "output_type": "stream",
     "text": [
      "\n",
      "Algorithm runtime: 113.41376689999015\n"
     ]
    },
    {
     "data": {
      "image/png": "[encoded data removed]",
      "text/plain": [
       "<Figure size 432x288 with 1 Axes>"
      ]
     },
     "metadata": {
      "needs_background": "light"
     },
     "output_type": "display_data"
    }
   ],
   "source": [
    "avg_m_arr = np.empty((0,5), float)\n",
    "for i in range(0,27,3):\n",
    "    metrics, rand = main(alg_n=1, n_splits = 4, dataset = 1, threshold_subset = i)\n",
    "    metr = np.array([metrics[9],metrics[10],metrics[11],metrics[12],rand])\n",
    "    avg_m_arr = np.vstack([avg_m_arr, metr])\n",
    "    \n",
    "plt.plot(avg_m_arr)\n",
    "plt.legend(['Accuracy', 'Precision','Recall', 'ROC AUC','Prediction Randomness'],bbox_to_anchor=(1.05, 1), loc='upper left', borderaxespad=0.)\n",
    "plt.grid()\n",
    "plt.show()  "
   ]
  },
  {
   "cell_type": "markdown",
   "metadata": {},
   "source": [
    "### Algorithm 2"
   ]
  },
  {
   "cell_type": "code",
   "execution_count": 364,
   "metadata": {
    "collapsed": true
   },
   "outputs": [
    {
     "data": {
      "application/vnd.jupyter.widget-view+json": {
       "model_id": "5037d8e2810d4e6c818f9391c9fe2b29",
       "version_major": 2,
       "version_minor": 0
      },
      "text/plain": [
       "HBox(children=(HTML(value=''), FloatProgress(value=0.0, max=6.0), HTML(value='')))"
      ]
     },
     "metadata": {},
     "output_type": "display_data"
    },
    {
     "name": "stdout",
     "output_type": "stream",
     "text": [
      "\n",
      "Algorithm runtime: 138.96202110001468\n"
     ]
    },
    {
     "data": {
      "application/vnd.jupyter.widget-view+json": {
       "model_id": "90453f18249349908ff9896bc3de3ac8",
       "version_major": 2,
       "version_minor": 0
      },
      "text/plain": [
       "HBox(children=(HTML(value=''), FloatProgress(value=0.0, max=6.0), HTML(value='')))"
      ]
     },
     "metadata": {},
     "output_type": "display_data"
    },
    {
     "name": "stdout",
     "output_type": "stream",
     "text": [
      "\n",
      "Algorithm runtime: 135.24014700000407\n"
     ]
    },
    {
     "data": {
      "application/vnd.jupyter.widget-view+json": {
       "model_id": "7ebfebcaad684ba18de32163e95c6077",
       "version_major": 2,
       "version_minor": 0
      },
      "text/plain": [
       "HBox(children=(HTML(value=''), FloatProgress(value=0.0, max=6.0), HTML(value='')))"
      ]
     },
     "metadata": {},
     "output_type": "display_data"
    },
    {
     "name": "stdout",
     "output_type": "stream",
     "text": [
      "\n",
      "Algorithm runtime: 146.68255719999433\n"
     ]
    },
    {
     "data": {
      "application/vnd.jupyter.widget-view+json": {
       "model_id": "8800f0313d094763a760aeff0c7a7688",
       "version_major": 2,
       "version_minor": 0
      },
      "text/plain": [
       "HBox(children=(HTML(value=''), FloatProgress(value=0.0, max=6.0), HTML(value='')))"
      ]
     },
     "metadata": {},
     "output_type": "display_data"
    },
    {
     "name": "stdout",
     "output_type": "stream",
     "text": [
      "\n",
      "Algorithm runtime: 136.0719112000079\n"
     ]
    },
    {
     "data": {
      "application/vnd.jupyter.widget-view+json": {
       "model_id": "01606c994d3142ce86adc272273ceab3",
       "version_major": 2,
       "version_minor": 0
      },
      "text/plain": [
       "HBox(children=(HTML(value=''), FloatProgress(value=0.0, max=6.0), HTML(value='')))"
      ]
     },
     "metadata": {},
     "output_type": "display_data"
    },
    {
     "name": "stdout",
     "output_type": "stream",
     "text": [
      "\n",
      "Algorithm runtime: 129.6682937000005\n"
     ]
    },
    {
     "data": {
      "application/vnd.jupyter.widget-view+json": {
       "model_id": "2816415001054e78b77cae12aa860075",
       "version_major": 2,
       "version_minor": 0
      },
      "text/plain": [
       "HBox(children=(HTML(value=''), FloatProgress(value=0.0, max=6.0), HTML(value='')))"
      ]
     },
     "metadata": {},
     "output_type": "display_data"
    },
    {
     "name": "stdout",
     "output_type": "stream",
     "text": [
      "\n",
      "Algorithm runtime: 137.75421859999187\n"
     ]
    },
    {
     "data": {
      "application/vnd.jupyter.widget-view+json": {
       "model_id": "f70e07589a144d37984b81ac6731b4c8",
       "version_major": 2,
       "version_minor": 0
      },
      "text/plain": [
       "HBox(children=(HTML(value=''), FloatProgress(value=0.0, max=6.0), HTML(value='')))"
      ]
     },
     "metadata": {},
     "output_type": "display_data"
    },
    {
     "name": "stdout",
     "output_type": "stream",
     "text": [
      "\n",
      "Algorithm runtime: 141.60716580000008\n"
     ]
    },
    {
     "data": {
      "application/vnd.jupyter.widget-view+json": {
       "model_id": "c06578efaba64f0d82eaa1e921382eba",
       "version_major": 2,
       "version_minor": 0
      },
      "text/plain": [
       "HBox(children=(HTML(value=''), FloatProgress(value=0.0, max=6.0), HTML(value='')))"
      ]
     },
     "metadata": {},
     "output_type": "display_data"
    },
    {
     "name": "stdout",
     "output_type": "stream",
     "text": [
      "\n",
      "Algorithm runtime: 143.6241558000038\n"
     ]
    },
    {
     "data": {
      "application/vnd.jupyter.widget-view+json": {
       "model_id": "46d5c38ac983494e802a9a0e76e3a908",
       "version_major": 2,
       "version_minor": 0
      },
      "text/plain": [
       "HBox(children=(HTML(value=''), FloatProgress(value=0.0, max=6.0), HTML(value='')))"
      ]
     },
     "metadata": {},
     "output_type": "display_data"
    },
    {
     "name": "stdout",
     "output_type": "stream",
     "text": [
      "\n",
      "Algorithm runtime: 133.91451420000521\n"
     ]
    },
    {
     "data": {
      "image/png": "[encoded data removed]",
      "text/plain": [
       "<Figure size 432x288 with 1 Axes>"
      ]
     },
     "metadata": {
      "needs_background": "light"
     },
     "output_type": "display_data"
    }
   ],
   "source": [
    "avg_m_arr = np.empty((0,5), float)\n",
    "for i in range(0,9):\n",
    "    metrics, rand = main(alg_n=2, n_splits = 6, dataset = 1, threshold_intersec = (i/10))\n",
    "    metr = np.array([metrics[9],metrics[10],metrics[11],metrics[12],rand])\n",
    "    avg_m_arr = np.vstack([avg_m_arr, metr])\n",
    "    \n",
    "plt.plot(avg_m_arr)\n",
    "plt.legend(['Accuracy', 'Precision','Recall', 'ROC AUC','Prediction Randomness'],bbox_to_anchor=(1.05, 1), loc='upper left', borderaxespad=0.)\n",
    "plt.grid()\n",
    "plt.show() "
   ]
  },
  {
   "cell_type": "markdown",
   "metadata": {},
   "source": [
    "## Dataset Bank\n",
    "### Algorithm 1"
   ]
  },
  {
   "cell_type": "code",
   "execution_count": 515,
   "metadata": {
    "collapsed": true
   },
   "outputs": [
    {
     "data": {
      "application/vnd.jupyter.widget-view+json": {
       "model_id": "c401c1666686498383796be17107e144",
       "version_major": 2,
       "version_minor": 0
      },
      "text/plain": [
       "HBox(children=(HTML(value=''), FloatProgress(value=0.0, max=6.0), HTML(value='')))"
      ]
     },
     "metadata": {},
     "output_type": "display_data"
    },
    {
     "name": "stdout",
     "output_type": "stream",
     "text": [
      "\n",
      "Algorithm runtime: 0.6333805000176653\n"
     ]
    },
    {
     "data": {
      "application/vnd.jupyter.widget-view+json": {
       "model_id": "53b8a0b0ffc847b0bb50839595cf2c6c",
       "version_major": 2,
       "version_minor": 0
      },
      "text/plain": [
       "HBox(children=(HTML(value=''), FloatProgress(value=0.0, max=6.0), HTML(value='')))"
      ]
     },
     "metadata": {},
     "output_type": "display_data"
    },
    {
     "name": "stdout",
     "output_type": "stream",
     "text": [
      "\n",
      "Algorithm runtime: 0.8110047000227496\n"
     ]
    },
    {
     "data": {
      "application/vnd.jupyter.widget-view+json": {
       "model_id": "f06bad62ec254c2d91b6773853018904",
       "version_major": 2,
       "version_minor": 0
      },
      "text/plain": [
       "HBox(children=(HTML(value=''), FloatProgress(value=0.0, max=6.0), HTML(value='')))"
      ]
     },
     "metadata": {},
     "output_type": "display_data"
    },
    {
     "name": "stdout",
     "output_type": "stream",
     "text": [
      "\n",
      "Algorithm runtime: 0.418705600022804\n"
     ]
    },
    {
     "data": {
      "application/vnd.jupyter.widget-view+json": {
       "model_id": "3d29f420a526400cb01cdcbde671c656",
       "version_major": 2,
       "version_minor": 0
      },
      "text/plain": [
       "HBox(children=(HTML(value=''), FloatProgress(value=0.0, max=6.0), HTML(value='')))"
      ]
     },
     "metadata": {},
     "output_type": "display_data"
    },
    {
     "name": "stdout",
     "output_type": "stream",
     "text": [
      "\n",
      "Algorithm runtime: 0.4480396000435576\n"
     ]
    },
    {
     "data": {
      "application/vnd.jupyter.widget-view+json": {
       "model_id": "7a9b40440cb9438c88a3cbe4c3651ab7",
       "version_major": 2,
       "version_minor": 0
      },
      "text/plain": [
       "HBox(children=(HTML(value=''), FloatProgress(value=0.0, max=6.0), HTML(value='')))"
      ]
     },
     "metadata": {},
     "output_type": "display_data"
    },
    {
     "name": "stdout",
     "output_type": "stream",
     "text": [
      "\n",
      "Algorithm runtime: 0.7679018000490032\n"
     ]
    },
    {
     "data": {
      "application/vnd.jupyter.widget-view+json": {
       "model_id": "52d167d8d74443839af0e21d2bcf0f85",
       "version_major": 2,
       "version_minor": 0
      },
      "text/plain": [
       "HBox(children=(HTML(value=''), FloatProgress(value=0.0, max=6.0), HTML(value='')))"
      ]
     },
     "metadata": {},
     "output_type": "display_data"
    },
    {
     "name": "stdout",
     "output_type": "stream",
     "text": [
      "\n",
      "Algorithm runtime: 2.318725099961739\n"
     ]
    },
    {
     "data": {
      "application/vnd.jupyter.widget-view+json": {
       "model_id": "c0525ad5dc474d38a39f5efe75021722",
       "version_major": 2,
       "version_minor": 0
      },
      "text/plain": [
       "HBox(children=(HTML(value=''), FloatProgress(value=0.0, max=6.0), HTML(value='')))"
      ]
     },
     "metadata": {},
     "output_type": "display_data"
    },
    {
     "name": "stdout",
     "output_type": "stream",
     "text": [
      "\n",
      "Algorithm runtime: 0.394281700020656\n"
     ]
    },
    {
     "data": {
      "application/vnd.jupyter.widget-view+json": {
       "model_id": "9f90d63947e442ce96867875bcc6dd08",
       "version_major": 2,
       "version_minor": 0
      },
      "text/plain": [
       "HBox(children=(HTML(value=''), FloatProgress(value=0.0, max=6.0), HTML(value='')))"
      ]
     },
     "metadata": {},
     "output_type": "display_data"
    },
    {
     "name": "stdout",
     "output_type": "stream",
     "text": [
      "\n",
      "Algorithm runtime: 0.5028602000093088\n"
     ]
    },
    {
     "data": {
      "application/vnd.jupyter.widget-view+json": {
       "model_id": "45377aaf196a4b408f146d2d73a185b5",
       "version_major": 2,
       "version_minor": 0
      },
      "text/plain": [
       "HBox(children=(HTML(value=''), FloatProgress(value=0.0, max=6.0), HTML(value='')))"
      ]
     },
     "metadata": {},
     "output_type": "display_data"
    },
    {
     "name": "stdout",
     "output_type": "stream",
     "text": [
      "\n",
      "Algorithm runtime: 14.947181799972896\n"
     ]
    },
    {
     "data": {
      "application/vnd.jupyter.widget-view+json": {
       "model_id": "239eb8e389024d0aaf270259b2f73704",
       "version_major": 2,
       "version_minor": 0
      },
      "text/plain": [
       "HBox(children=(HTML(value=''), FloatProgress(value=0.0, max=6.0), HTML(value='')))"
      ]
     },
     "metadata": {},
     "output_type": "display_data"
    },
    {
     "name": "stdout",
     "output_type": "stream",
     "text": [
      "\n",
      "Algorithm runtime: 0.40855930000543594\n"
     ]
    },
    {
     "data": {
      "application/vnd.jupyter.widget-view+json": {
       "model_id": "2631d6ccf74c424082d6c726f6a22013",
       "version_major": 2,
       "version_minor": 0
      },
      "text/plain": [
       "HBox(children=(HTML(value=''), FloatProgress(value=0.0, max=6.0), HTML(value='')))"
      ]
     },
     "metadata": {},
     "output_type": "display_data"
    },
    {
     "name": "stdout",
     "output_type": "stream",
     "text": [
      "\n",
      "Algorithm runtime: 0.38563749997410923\n"
     ]
    },
    {
     "data": {
      "application/vnd.jupyter.widget-view+json": {
       "model_id": "9b4dc2bd90d94b3096bba0ad71db0415",
       "version_major": 2,
       "version_minor": 0
      },
      "text/plain": [
       "HBox(children=(HTML(value=''), FloatProgress(value=0.0, max=6.0), HTML(value='')))"
      ]
     },
     "metadata": {},
     "output_type": "display_data"
    },
    {
     "name": "stdout",
     "output_type": "stream",
     "text": [
      "\n",
      "Algorithm runtime: 0.6325211999937892\n"
     ]
    },
    {
     "data": {
      "application/vnd.jupyter.widget-view+json": {
       "model_id": "239e3e89f6944c218bfc94473abaf211",
       "version_major": 2,
       "version_minor": 0
      },
      "text/plain": [
       "HBox(children=(HTML(value=''), FloatProgress(value=0.0, max=6.0), HTML(value='')))"
      ]
     },
     "metadata": {},
     "output_type": "display_data"
    },
    {
     "name": "stdout",
     "output_type": "stream",
     "text": [
      "\n",
      "Algorithm runtime: 0.39706920000026\n"
     ]
    },
    {
     "data": {
      "application/vnd.jupyter.widget-view+json": {
       "model_id": "048d4abbc48e4a9597193d354a136253",
       "version_major": 2,
       "version_minor": 0
      },
      "text/plain": [
       "HBox(children=(HTML(value=''), FloatProgress(value=0.0, max=6.0), HTML(value='')))"
      ]
     },
     "metadata": {},
     "output_type": "display_data"
    },
    {
     "name": "stdout",
     "output_type": "stream",
     "text": [
      "\n",
      "Algorithm runtime: 0.6793498000479303\n"
     ]
    },
    {
     "data": {
      "application/vnd.jupyter.widget-view+json": {
       "model_id": "7ef263f923e743fa977e26191270abf0",
       "version_major": 2,
       "version_minor": 0
      },
      "text/plain": [
       "HBox(children=(HTML(value=''), FloatProgress(value=0.0, max=6.0), HTML(value='')))"
      ]
     },
     "metadata": {},
     "output_type": "display_data"
    },
    {
     "name": "stdout",
     "output_type": "stream",
     "text": [
      "\n",
      "Algorithm runtime: 0.6475252999807708\n"
     ]
    },
    {
     "data": {
      "image/png": "[encoded data removed]",
      "text/plain": [
       "<Figure size 432x288 with 1 Axes>"
      ]
     },
     "metadata": {
      "needs_background": "light"
     },
     "output_type": "display_data"
    }
   ],
   "source": [
    "#Bank new\n",
    "avg_m_arr = np.empty((0,5), float)\n",
    "for i in range(0,75,5):\n",
    "    metrics, rand = main(alg_n=1, n_splits = 6, dataset = 2, threshold_subset = i)\n",
    "    metr = np.array([metrics[9],metrics[10],metrics[11],metrics[12],rand])\n",
    "    avg_m_arr = np.vstack([avg_m_arr, metr])\n",
    "    \n",
    "plt.plot(avg_m_arr)\n",
    "plt.legend(['Accuracy', 'Precision','Recall', 'ROC AUC','Prediction Randomness'],bbox_to_anchor=(1.05, 1), loc='upper left', borderaxespad=0.)\n",
    "\n",
    "plt.grid()\n",
    "plt.show() "
   ]
  },
  {
   "cell_type": "markdown",
   "metadata": {},
   "source": [
    "### Algorithm 2"
   ]
  },
  {
   "cell_type": "code",
   "execution_count": 562,
   "metadata": {
    "collapsed": true
   },
   "outputs": [
    {
     "data": {
      "application/vnd.jupyter.widget-view+json": {
       "model_id": "d537af44e06f483e80499ec9d02cab8c",
       "version_major": 2,
       "version_minor": 0
      },
      "text/plain": [
       "HBox(children=(HTML(value=''), FloatProgress(value=0.0, max=6.0), HTML(value='')))"
      ]
     },
     "metadata": {},
     "output_type": "display_data"
    },
    {
     "name": "stdout",
     "output_type": "stream",
     "text": [
      "\n",
      "Algorithm runtime: 0.5638211999903433\n"
     ]
    },
    {
     "data": {
      "application/vnd.jupyter.widget-view+json": {
       "model_id": "a03225e42a3640e4b995972905aa81cc",
       "version_major": 2,
       "version_minor": 0
      },
      "text/plain": [
       "HBox(children=(HTML(value=''), FloatProgress(value=0.0, max=6.0), HTML(value='')))"
      ]
     },
     "metadata": {},
     "output_type": "display_data"
    },
    {
     "name": "stdout",
     "output_type": "stream",
     "text": [
      "\n",
      "Algorithm runtime: 0.6864892999874428\n"
     ]
    },
    {
     "data": {
      "application/vnd.jupyter.widget-view+json": {
       "model_id": "ff759c347fad4018b0bae681b268fc1e",
       "version_major": 2,
       "version_minor": 0
      },
      "text/plain": [
       "HBox(children=(HTML(value=''), FloatProgress(value=0.0, max=6.0), HTML(value='')))"
      ]
     },
     "metadata": {},
     "output_type": "display_data"
    },
    {
     "name": "stdout",
     "output_type": "stream",
     "text": [
      "\n",
      "Algorithm runtime: 0.9837200000183657\n"
     ]
    },
    {
     "data": {
      "application/vnd.jupyter.widget-view+json": {
       "model_id": "03b8ec9885754105bb334c72831dd268",
       "version_major": 2,
       "version_minor": 0
      },
      "text/plain": [
       "HBox(children=(HTML(value=''), FloatProgress(value=0.0, max=6.0), HTML(value='')))"
      ]
     },
     "metadata": {},
     "output_type": "display_data"
    },
    {
     "name": "stdout",
     "output_type": "stream",
     "text": [
      "\n",
      "Algorithm runtime: 0.45735889999195933\n"
     ]
    },
    {
     "data": {
      "application/vnd.jupyter.widget-view+json": {
       "model_id": "1553fb7556644b0aab2060c12bced4f1",
       "version_major": 2,
       "version_minor": 0
      },
      "text/plain": [
       "HBox(children=(HTML(value=''), FloatProgress(value=0.0, max=6.0), HTML(value='')))"
      ]
     },
     "metadata": {},
     "output_type": "display_data"
    },
    {
     "name": "stdout",
     "output_type": "stream",
     "text": [
      "\n",
      "Algorithm runtime: 0.5576883999747224\n"
     ]
    },
    {
     "data": {
      "application/vnd.jupyter.widget-view+json": {
       "model_id": "d065ca87218545eab98fb671a048aece",
       "version_major": 2,
       "version_minor": 0
      },
      "text/plain": [
       "HBox(children=(HTML(value=''), FloatProgress(value=0.0, max=6.0), HTML(value='')))"
      ]
     },
     "metadata": {},
     "output_type": "display_data"
    },
    {
     "name": "stdout",
     "output_type": "stream",
     "text": [
      "\n",
      "Algorithm runtime: 0.5140526000177488\n"
     ]
    },
    {
     "data": {
      "application/vnd.jupyter.widget-view+json": {
       "model_id": "0a89ab673fc8470bb90404e172283ffc",
       "version_major": 2,
       "version_minor": 0
      },
      "text/plain": [
       "HBox(children=(HTML(value=''), FloatProgress(value=0.0, max=6.0), HTML(value='')))"
      ]
     },
     "metadata": {},
     "output_type": "display_data"
    },
    {
     "name": "stdout",
     "output_type": "stream",
     "text": [
      "\n",
      "Algorithm runtime: 0.5655129999504425\n"
     ]
    },
    {
     "data": {
      "application/vnd.jupyter.widget-view+json": {
       "model_id": "a1fdfb2f81134a9b9b46b9a38a999502",
       "version_major": 2,
       "version_minor": 0
      },
      "text/plain": [
       "HBox(children=(HTML(value=''), FloatProgress(value=0.0, max=6.0), HTML(value='')))"
      ]
     },
     "metadata": {},
     "output_type": "display_data"
    },
    {
     "name": "stdout",
     "output_type": "stream",
     "text": [
      "\n",
      "Algorithm runtime: 0.5633235999848694\n"
     ]
    },
    {
     "data": {
      "application/vnd.jupyter.widget-view+json": {
       "model_id": "c8c260fc740d4d43b445501d5290f3cc",
       "version_major": 2,
       "version_minor": 0
      },
      "text/plain": [
       "HBox(children=(HTML(value=''), FloatProgress(value=0.0, max=6.0), HTML(value='')))"
      ]
     },
     "metadata": {},
     "output_type": "display_data"
    },
    {
     "name": "stdout",
     "output_type": "stream",
     "text": [
      "\n",
      "Algorithm runtime: 0.6492728000157513\n"
     ]
    },
    {
     "data": {
      "application/vnd.jupyter.widget-view+json": {
       "model_id": "e0f6d40d015a45199cff86397f509fd0",
       "version_major": 2,
       "version_minor": 0
      },
      "text/plain": [
       "HBox(children=(HTML(value=''), FloatProgress(value=0.0, max=6.0), HTML(value='')))"
      ]
     },
     "metadata": {},
     "output_type": "display_data"
    },
    {
     "name": "stdout",
     "output_type": "stream",
     "text": [
      "\n",
      "Algorithm runtime: 0.39768569997977465\n"
     ]
    },
    {
     "data": {
      "application/vnd.jupyter.widget-view+json": {
       "model_id": "0a1abb4ffdbc4c069d90c0fcc10aa861",
       "version_major": 2,
       "version_minor": 0
      },
      "text/plain": [
       "HBox(children=(HTML(value=''), FloatProgress(value=0.0, max=6.0), HTML(value='')))"
      ]
     },
     "metadata": {},
     "output_type": "display_data"
    },
    {
     "name": "stdout",
     "output_type": "stream",
     "text": [
      "\n",
      "Algorithm runtime: 0.565629800024908\n"
     ]
    },
    {
     "data": {
      "image/png": "[encoded data removed]",
      "text/plain": [
       "<Figure size 432x288 with 1 Axes>"
      ]
     },
     "metadata": {
      "needs_background": "light"
     },
     "output_type": "display_data"
    }
   ],
   "source": [
    "avg_m_arr = np.empty((0,5), float)\n",
    "for i in range(0,11):\n",
    "    metrics, rand = main(alg_n=2, n_splits = 6, dataset = 1, threshold_intersec = (i/10))\n",
    "    metr = np.array([metrics[9],metrics[10],metrics[11],metrics[12],rand])\n",
    "    avg_m_arr = np.vstack([avg_m_arr, metr])\n",
    "    \n",
    "plt.plot(avg_m_arr)\n",
    "plt.legend(['Accuracy', 'Precision','Recall', 'ROC AUC','Prediction Randomness'],bbox_to_anchor=(1.05, 1), loc='upper left', borderaxespad=0.)\n",
    "plt.grid()\n",
    "plt.show() "
   ]
  },
  {
   "cell_type": "markdown",
   "metadata": {},
   "source": [
    "## Dataset Diabetes\n",
    "### Algorithm 1"
   ]
  },
  {
   "cell_type": "code",
   "execution_count": 464,
   "metadata": {
    "collapsed": true
   },
   "outputs": [
    {
     "data": {
      "application/vnd.jupyter.widget-view+json": {
       "model_id": "0b99d15072564c239671fc49b18258a6",
       "version_major": 2,
       "version_minor": 0
      },
      "text/plain": [
       "HBox(children=(HTML(value=''), FloatProgress(value=0.0, max=6.0), HTML(value='')))"
      ]
     },
     "metadata": {},
     "output_type": "display_data"
    },
    {
     "name": "stdout",
     "output_type": "stream",
     "text": [
      "\n",
      "Algorithm runtime: 241.52838709997013\n"
     ]
    },
    {
     "data": {
      "application/vnd.jupyter.widget-view+json": {
       "model_id": "30a9db2b56fa4923be6e05ea8eaa155a",
       "version_major": 2,
       "version_minor": 0
      },
      "text/plain": [
       "HBox(children=(HTML(value=''), FloatProgress(value=0.0, max=6.0), HTML(value='')))"
      ]
     },
     "metadata": {},
     "output_type": "display_data"
    },
    {
     "name": "stdout",
     "output_type": "stream",
     "text": [
      "\n",
      "Algorithm runtime: 196.41934969997965\n"
     ]
    },
    {
     "data": {
      "application/vnd.jupyter.widget-view+json": {
       "model_id": "6f3f8b1bba864ba8a3e1ec0c2e18bb19",
       "version_major": 2,
       "version_minor": 0
      },
      "text/plain": [
       "HBox(children=(HTML(value=''), FloatProgress(value=0.0, max=6.0), HTML(value='')))"
      ]
     },
     "metadata": {},
     "output_type": "display_data"
    },
    {
     "name": "stdout",
     "output_type": "stream",
     "text": [
      "\n",
      "Algorithm runtime: 214.61990579997655\n"
     ]
    },
    {
     "data": {
      "application/vnd.jupyter.widget-view+json": {
       "model_id": "b4d7e9eb7a9a4f369a25b0af2b747f95",
       "version_major": 2,
       "version_minor": 0
      },
      "text/plain": [
       "HBox(children=(HTML(value=''), FloatProgress(value=0.0, max=6.0), HTML(value='')))"
      ]
     },
     "metadata": {},
     "output_type": "display_data"
    },
    {
     "name": "stdout",
     "output_type": "stream",
     "text": [
      "\n",
      "Algorithm runtime: 208.37761329999194\n"
     ]
    },
    {
     "data": {
      "application/vnd.jupyter.widget-view+json": {
       "model_id": "48323d39196140d7afbcd2f6d7a0643e",
       "version_major": 2,
       "version_minor": 0
      },
      "text/plain": [
       "HBox(children=(HTML(value=''), FloatProgress(value=0.0, max=6.0), HTML(value='')))"
      ]
     },
     "metadata": {},
     "output_type": "display_data"
    },
    {
     "name": "stdout",
     "output_type": "stream",
     "text": [
      "\n",
      "Algorithm runtime: 228.22957089997362\n"
     ]
    },
    {
     "data": {
      "application/vnd.jupyter.widget-view+json": {
       "model_id": "828273453b6a43fa80672a670c59baa5",
       "version_major": 2,
       "version_minor": 0
      },
      "text/plain": [
       "HBox(children=(HTML(value=''), FloatProgress(value=0.0, max=6.0), HTML(value='')))"
      ]
     },
     "metadata": {},
     "output_type": "display_data"
    },
    {
     "name": "stdout",
     "output_type": "stream",
     "text": [
      "\n",
      "Algorithm runtime: 206.5150818999973\n"
     ]
    },
    {
     "data": {
      "application/vnd.jupyter.widget-view+json": {
       "model_id": "e22c6a7d4fd14e8d8d48361220e1d0f4",
       "version_major": 2,
       "version_minor": 0
      },
      "text/plain": [
       "HBox(children=(HTML(value=''), FloatProgress(value=0.0, max=6.0), HTML(value='')))"
      ]
     },
     "metadata": {},
     "output_type": "display_data"
    },
    {
     "name": "stdout",
     "output_type": "stream",
     "text": [
      "\n",
      "Algorithm runtime: 195.83359930000734\n"
     ]
    },
    {
     "data": {
      "application/vnd.jupyter.widget-view+json": {
       "model_id": "840711b8e4ce473e830ac2db015c87d1",
       "version_major": 2,
       "version_minor": 0
      },
      "text/plain": [
       "HBox(children=(HTML(value=''), FloatProgress(value=0.0, max=6.0), HTML(value='')))"
      ]
     },
     "metadata": {},
     "output_type": "display_data"
    },
    {
     "name": "stdout",
     "output_type": "stream",
     "text": [
      "\n",
      "Algorithm runtime: 180.95574389997637\n"
     ]
    },
    {
     "data": {
      "application/vnd.jupyter.widget-view+json": {
       "model_id": "2851104e5d114e46b3bbaf9e2db683a6",
       "version_major": 2,
       "version_minor": 0
      },
      "text/plain": [
       "HBox(children=(HTML(value=''), FloatProgress(value=0.0, max=6.0), HTML(value='')))"
      ]
     },
     "metadata": {},
     "output_type": "display_data"
    },
    {
     "name": "stdout",
     "output_type": "stream",
     "text": [
      "\n",
      "Algorithm runtime: 195.30868010001723\n"
     ]
    },
    {
     "data": {
      "application/vnd.jupyter.widget-view+json": {
       "model_id": "c8a83ffb84fb47189693d34b7a2cbdd7",
       "version_major": 2,
       "version_minor": 0
      },
      "text/plain": [
       "HBox(children=(HTML(value=''), FloatProgress(value=0.0, max=6.0), HTML(value='')))"
      ]
     },
     "metadata": {},
     "output_type": "display_data"
    },
    {
     "name": "stdout",
     "output_type": "stream",
     "text": [
      "\n",
      "Algorithm runtime: 186.9844666000572\n"
     ]
    },
    {
     "data": {
      "application/vnd.jupyter.widget-view+json": {
       "model_id": "5a50bd408a014eb9835b0f358bd2268b",
       "version_major": 2,
       "version_minor": 0
      },
      "text/plain": [
       "HBox(children=(HTML(value=''), FloatProgress(value=0.0, max=6.0), HTML(value='')))"
      ]
     },
     "metadata": {},
     "output_type": "display_data"
    },
    {
     "name": "stdout",
     "output_type": "stream",
     "text": [
      "\n",
      "Algorithm runtime: 205.12930939998478\n"
     ]
    },
    {
     "data": {
      "image/png": "[encoded data removed]",
      "text/plain": [
       "<Figure size 432x288 with 1 Axes>"
      ]
     },
     "metadata": {
      "needs_background": "light"
     },
     "output_type": "display_data"
    }
   ],
   "source": [
    "avg_m_arr = np.empty((0,5), float)\n",
    "for i in range(0,22,2):\n",
    "    metrics, rand = main(alg_n=1, n_splits = 6, dataset = 2, threshold_subset = i)\n",
    "    metr = np.array([metrics[9],metrics[10],metrics[11],metrics[12],rand])\n",
    "    avg_m_arr = np.vstack([avg_m_arr, metr])\n",
    "    \n",
    "plt.plot(avg_m_arr)\n",
    "plt.legend(['Accuracy', 'Precision','Recall', 'ROC AUC','Prediction Randomness'],bbox_to_anchor=(1.05, 1), loc='upper left', borderaxespad=0.)\n",
    "plt.grid()\n",
    "plt.show() "
   ]
  },
  {
   "cell_type": "markdown",
   "metadata": {},
   "source": [
    "### Algoritm 2"
   ]
  },
  {
   "cell_type": "code",
   "execution_count": 466,
   "metadata": {
    "collapsed": true
   },
   "outputs": [
    {
     "data": {
      "application/vnd.jupyter.widget-view+json": {
       "model_id": "99a308173d8045dab00e7eea92307be3",
       "version_major": 2,
       "version_minor": 0
      },
      "text/plain": [
       "HBox(children=(HTML(value=''), FloatProgress(value=0.0, max=6.0), HTML(value='')))"
      ]
     },
     "metadata": {},
     "output_type": "display_data"
    },
    {
     "name": "stdout",
     "output_type": "stream",
     "text": [
      "\n",
      "Algorithm runtime: 205.9950953000225\n"
     ]
    },
    {
     "data": {
      "application/vnd.jupyter.widget-view+json": {
       "model_id": "a8381b96a85e42609c4df9c891a2dd9a",
       "version_major": 2,
       "version_minor": 0
      },
      "text/plain": [
       "HBox(children=(HTML(value=''), FloatProgress(value=0.0, max=6.0), HTML(value='')))"
      ]
     },
     "metadata": {},
     "output_type": "display_data"
    },
    {
     "name": "stdout",
     "output_type": "stream",
     "text": [
      "\n",
      "Algorithm runtime: 206.33850889996393\n"
     ]
    },
    {
     "data": {
      "application/vnd.jupyter.widget-view+json": {
       "model_id": "cd58560dc9554040845d0d577b962bbd",
       "version_major": 2,
       "version_minor": 0
      },
      "text/plain": [
       "HBox(children=(HTML(value=''), FloatProgress(value=0.0, max=6.0), HTML(value='')))"
      ]
     },
     "metadata": {},
     "output_type": "display_data"
    },
    {
     "name": "stdout",
     "output_type": "stream",
     "text": [
      "\n",
      "Algorithm runtime: 212.7298209000146\n"
     ]
    },
    {
     "data": {
      "application/vnd.jupyter.widget-view+json": {
       "model_id": "470a2ddeacaf4b62a8724d458f212b34",
       "version_major": 2,
       "version_minor": 0
      },
      "text/plain": [
       "HBox(children=(HTML(value=''), FloatProgress(value=0.0, max=6.0), HTML(value='')))"
      ]
     },
     "metadata": {},
     "output_type": "display_data"
    },
    {
     "name": "stdout",
     "output_type": "stream",
     "text": [
      "\n",
      "Algorithm runtime: 205.5710468000034\n"
     ]
    },
    {
     "data": {
      "application/vnd.jupyter.widget-view+json": {
       "model_id": "3341364bd38c47848ee64946728221f1",
       "version_major": 2,
       "version_minor": 0
      },
      "text/plain": [
       "HBox(children=(HTML(value=''), FloatProgress(value=0.0, max=6.0), HTML(value='')))"
      ]
     },
     "metadata": {},
     "output_type": "display_data"
    },
    {
     "name": "stdout",
     "output_type": "stream",
     "text": [
      "\n",
      "Algorithm runtime: 225.18483990000095\n"
     ]
    },
    {
     "data": {
      "application/vnd.jupyter.widget-view+json": {
       "model_id": "5fc06237ba0f4a44ae1e4ce7915a319f",
       "version_major": 2,
       "version_minor": 0
      },
      "text/plain": [
       "HBox(children=(HTML(value=''), FloatProgress(value=0.0, max=6.0), HTML(value='')))"
      ]
     },
     "metadata": {},
     "output_type": "display_data"
    },
    {
     "name": "stdout",
     "output_type": "stream",
     "text": [
      "\n",
      "Algorithm runtime: 209.02532330004033\n"
     ]
    },
    {
     "data": {
      "application/vnd.jupyter.widget-view+json": {
       "model_id": "6c0b409bca2b4b74ac506db8c2d07caa",
       "version_major": 2,
       "version_minor": 0
      },
      "text/plain": [
       "HBox(children=(HTML(value=''), FloatProgress(value=0.0, max=6.0), HTML(value='')))"
      ]
     },
     "metadata": {},
     "output_type": "display_data"
    },
    {
     "name": "stdout",
     "output_type": "stream",
     "text": [
      "\n",
      "Algorithm runtime: 201.69912450003903\n"
     ]
    },
    {
     "data": {
      "application/vnd.jupyter.widget-view+json": {
       "model_id": "2a3edb0702ca45b7ac70174de3a79595",
       "version_major": 2,
       "version_minor": 0
      },
      "text/plain": [
       "HBox(children=(HTML(value=''), FloatProgress(value=0.0, max=6.0), HTML(value='')))"
      ]
     },
     "metadata": {},
     "output_type": "display_data"
    },
    {
     "name": "stdout",
     "output_type": "stream",
     "text": [
      "\n",
      "Algorithm runtime: 210.90589290001662\n"
     ]
    },
    {
     "data": {
      "application/vnd.jupyter.widget-view+json": {
       "model_id": "78b469ea95a24c5294b27d78b3363dc5",
       "version_major": 2,
       "version_minor": 0
      },
      "text/plain": [
       "HBox(children=(HTML(value=''), FloatProgress(value=0.0, max=6.0), HTML(value='')))"
      ]
     },
     "metadata": {},
     "output_type": "display_data"
    },
    {
     "name": "stdout",
     "output_type": "stream",
     "text": [
      "\n",
      "Algorithm runtime: 197.68005630001426\n"
     ]
    },
    {
     "data": {
      "application/vnd.jupyter.widget-view+json": {
       "model_id": "611f79075488411faec81af6efedb729",
       "version_major": 2,
       "version_minor": 0
      },
      "text/plain": [
       "HBox(children=(HTML(value=''), FloatProgress(value=0.0, max=6.0), HTML(value='')))"
      ]
     },
     "metadata": {},
     "output_type": "display_data"
    },
    {
     "name": "stdout",
     "output_type": "stream",
     "text": [
      "\n",
      "Algorithm runtime: 204.12658589996863\n"
     ]
    },
    {
     "data": {
      "application/vnd.jupyter.widget-view+json": {
       "model_id": "52e51a6d3a774b9186d38df30f00f260",
       "version_major": 2,
       "version_minor": 0
      },
      "text/plain": [
       "HBox(children=(HTML(value=''), FloatProgress(value=0.0, max=6.0), HTML(value='')))"
      ]
     },
     "metadata": {},
     "output_type": "display_data"
    },
    {
     "name": "stdout",
     "output_type": "stream",
     "text": [
      "\n",
      "Algorithm runtime: 209.62773639999796\n"
     ]
    },
    {
     "data": {
      "image/png": "[encoded data removed]",
      "text/plain": [
       "<Figure size 432x288 with 1 Axes>"
      ]
     },
     "metadata": {
      "needs_background": "light"
     },
     "output_type": "display_data"
    }
   ],
   "source": [
    "avg_m_arr = np.empty((0,5), float)\n",
    "for i in range(0,11):\n",
    "    metrics, rand = main(alg_n=2, n_splits = 6, dataset = 2, threshold_intersec = i/10)\n",
    "    metr = np.array([metrics[9],metrics[10],metrics[11],metrics[12],rand])\n",
    "    avg_m_arr = np.vstack([avg_m_arr, metr])\n",
    "    \n",
    "plt.plot(avg_m_arr)\n",
    "plt.legend(['Accuracy', 'Precision','Recall', 'ROC AUC','Prediction Randomness'],bbox_to_anchor=(1.05, 1), loc='upper left', borderaxespad=0.)\n",
    "plt.grid()\n",
    "plt.show() "
   ]
  },
  {
   "cell_type": "markdown",
   "metadata": {},
   "source": [
    "## Hyperparameters results:\n",
    "Best hyperparameter for first algorithm\n",
    " - for Tic-tac-toe dataset on iteration number 4 is threshold_subset = 9  \n",
    " - for dataset Bank on iteration number 9 is threshold_subset = 45\n",
    " - for diabetes dataset on iteration number 1-4 is threshold_subset = 2-8\n",
    " \n",
    "Best hyperparameter for second algorithm is threshold_intersec = 0.2, 0.8, and 0,1 for three datasets respectfully."
   ]
  },
  {
   "cell_type": "markdown",
   "metadata": {},
   "source": [
    "# 7. Print metrics with bets hyperparameters:"
   ]
  },
  {
   "cell_type": "code",
   "execution_count": 91,
   "metadata": {
    "collapsed": true
   },
   "outputs": [
    {
     "data": {
      "application/vnd.jupyter.widget-view+json": {
       "model_id": "578258a5577b46f0b144d0a67839e5ca",
       "version_major": 2,
       "version_minor": 0
      },
      "text/plain": [
       "HBox(children=(HTML(value=''), FloatProgress(value=0.0, max=6.0), HTML(value='')))"
      ]
     },
     "metadata": {},
     "output_type": "display_data"
    },
    {
     "name": "stdout",
     "output_type": "stream",
     "text": [
      "\n",
      "Algorithm runtime: 206.08376500000304\n",
      "True Positive: 9.8333\n",
      "True Negative: 2.3333\n",
      "False Positive: 2.6667\n",
      "False Negativee: 1.1667\n",
      "True Positive Rate: 0.9018\n",
      "True Negative Rate: 0.5258\n",
      "False Positive Rate: 0.2840\n",
      "Negative Predictive Value: 0.7444\n",
      "False Discovery Rate: 0.2096\n",
      "Accuracy score: 0.7604\n",
      "Precision Score: 0.7904\n",
      "Recall Score: 0.9018\n",
      "Roc AUC Score: 0.7138\n"
     ]
    }
   ],
   "source": [
    "# Dataset Tic-Tac-Toe, Algoritm 1,threshold_subset = 9\n",
    "metrics, randoms = main(alg_n=1, n_splits = 6, dataset = 1, threshold_subset=9)\n",
    "print_metrics(metrics)"
   ]
  },
  {
   "cell_type": "code",
   "execution_count": 494,
   "metadata": {
    "collapsed": true
   },
   "outputs": [
    {
     "data": {
      "application/vnd.jupyter.widget-view+json": {
       "model_id": "8fae56840af242528e74947d222d54e2",
       "version_major": 2,
       "version_minor": 0
      },
      "text/plain": [
       "HBox(children=(HTML(value=''), FloatProgress(value=0.0, max=6.0), HTML(value='')))"
      ]
     },
     "metadata": {},
     "output_type": "display_data"
    },
    {
     "name": "stdout",
     "output_type": "stream",
     "text": [
      "\n",
      "Algorithm runtime: 233.53013920004014\n",
      "True Positive: 5.3333\n",
      "True Negative: 3.1667\n",
      "False Positive: 1.8333\n",
      "False Negativee: 5.6667\n",
      "True Positive Rate: 0.4678\n",
      "True Negative Rate: 0.6345\n",
      "False Positive Rate: 0.1708\n",
      "Negative Predictive Value: 0.3423\n",
      "False Discovery Rate: 0.2839\n",
      "Accuracy score: 0.5312\n",
      "Precision Score: 0.7161\n",
      "Recall Score: 0.4678\n",
      "Roc AUC Score: 0.5511\n",
      "0.0625\n"
     ]
    }
   ],
   "source": [
    "# Dataset Tic-Tac-Toe, Algoritm 2,threshold_intersec = 0.2\n",
    "metrics, randoms = main(alg_n=2, n_splits = 6, dataset = 1, threshold_intersec = 0.2)\n",
    "print_metrics(metrics)\n",
    "print(randoms)"
   ]
  },
  {
   "cell_type": "code",
   "execution_count": 534,
   "metadata": {
    "collapsed": true
   },
   "outputs": [
    {
     "data": {
      "application/vnd.jupyter.widget-view+json": {
       "model_id": "8a96d5e4f36c432e94342142ce07904c",
       "version_major": 2,
       "version_minor": 0
      },
      "text/plain": [
       "HBox(children=(HTML(value=''), FloatProgress(value=0.0, max=10.0), HTML(value='')))"
      ]
     },
     "metadata": {},
     "output_type": "display_data"
    },
    {
     "name": "stdout",
     "output_type": "stream",
     "text": [
      "\n",
      "Algorithm runtime: 1.0373162999749184\n",
      "True Positive: 1.2000\n",
      "True Negative: 13.6000\n",
      "False Positive: 1.2000\n",
      "False Negativee: 1.2000\n",
      "True Positive Rate: 0.3967\n",
      "True Negative Rate: 0.9197\n",
      "False Positive Rate: 0.8033\n",
      "Negative Predictive Value: 0.9185\n",
      "False Discovery Rate: 0.5200\n",
      "Accuracy score: 0.8601\n",
      "Precision Score: 0.4800\n",
      "Recall Score: 0.3967\n",
      "Roc AUC Score: 0.6582\n"
     ]
    }
   ],
   "source": [
    "# Dataset Bank, Algoritm 1, ,threshold_subset = 45\n",
    "metrics, randoms = main(alg_n=1, n_splits = 6, dataset = 2, threshold_subset = 45)\n",
    "print_metrics(metrics)"
   ]
  },
  {
   "cell_type": "code",
   "execution_count": 563,
   "metadata": {
    "collapsed": true
   },
   "outputs": [
    {
     "data": {
      "application/vnd.jupyter.widget-view+json": {
       "model_id": "33a0a900ca8842d6a597bfbda21bd434",
       "version_major": 2,
       "version_minor": 0
      },
      "text/plain": [
       "HBox(children=(HTML(value=''), FloatProgress(value=0.0, max=10.0), HTML(value='')))"
      ]
     },
     "metadata": {},
     "output_type": "display_data"
    },
    {
     "name": "stdout",
     "output_type": "stream",
     "text": [
      "\n",
      "Algorithm runtime: 1.0117330999928527\n",
      "True Positive: 1.4000\n",
      "True Negative: 13.3000\n",
      "False Positive: 1.5000\n",
      "False Negativee: 1.0000\n",
      "True Positive Rate: 0.5967\n",
      "True Negative Rate: 0.8983\n",
      "False Positive Rate: 1.0567\n",
      "Negative Predictive Value: 0.9332\n",
      "False Discovery Rate: nan\n",
      "Accuracy score: 0.8542\n",
      "Precision Score: 0.4217\n",
      "Recall Score: 0.5967\n",
      "Roc AUC Score: 0.7475\n"
     ]
    }
   ],
   "source": [
    "# Dataset Bank, Algoritm 2, threshold_intersec = 0,8\n",
    "metrics, randoms= main(alg_n=2, n_splits = 6, dataset = 1, threshold_intersec = 0.8)\n",
    "print_metrics(metrics)"
   ]
  },
  {
   "cell_type": "code",
   "execution_count": 503,
   "metadata": {
    "collapsed": true
   },
   "outputs": [
    {
     "data": {
      "application/vnd.jupyter.widget-view+json": {
       "model_id": "cba3afe6b84f4039bd0698b12e9e9037",
       "version_major": 2,
       "version_minor": 0
      },
      "text/plain": [
       "HBox(children=(HTML(value=''), FloatProgress(value=0.0, max=6.0), HTML(value='')))"
      ]
     },
     "metadata": {},
     "output_type": "display_data"
    },
    {
     "name": "stdout",
     "output_type": "stream",
     "text": [
      "\n",
      "Algorithm runtime: 1084.3606970999972\n",
      "True Positive: 6.6667\n",
      "True Negative: 6.5000\n",
      "False Positive: 0.3333\n",
      "False Negativee: 0.8333\n",
      "True Positive Rate: 0.8854\n",
      "True Negative Rate: 0.9583\n",
      "False Positive Rate: 0.0516\n",
      "Negative Predictive Value: 0.8810\n",
      "False Discovery Rate: 0.0571\n",
      "Accuracy score: 0.9183\n",
      "Precision Score: 0.9429\n",
      "Recall Score: 0.8854\n",
      "Roc AUC Score: 0.9219\n",
      "Randomness of prediction: 0.0\n"
     ]
    }
   ],
   "source": [
    "# Dataset Diabetes, Algoritm 1, ,threshold_subset = 2\n",
    "metrics, randoms = main(alg_n=1, n_splits = 6, dataset = 2, threshold_subset=2)\n",
    "print_metrics(metrics)\n",
    "print('Randomness of prediction:', randoms)"
   ]
  },
  {
   "cell_type": "code",
   "execution_count": 542,
   "metadata": {
    "collapsed": true
   },
   "outputs": [
    {
     "data": {
      "application/vnd.jupyter.widget-view+json": {
       "model_id": "65bb330d2b194e008e0d90f91714a27b",
       "version_major": 2,
       "version_minor": 0
      },
      "text/plain": [
       "HBox(children=(HTML(value=''), FloatProgress(value=0.0, max=6.0), HTML(value='')))"
      ]
     },
     "metadata": {},
     "output_type": "display_data"
    },
    {
     "name": "stdout",
     "output_type": "stream",
     "text": [
      "\n",
      "Algorithm runtime: 1240.036136300012\n",
      "True Positive: 4.5000\n",
      "True Negative: 2.5000\n",
      "False Positive: 2.5000\n",
      "False Negativee: 6.5000\n",
      "True Positive Rate: 0.4085\n",
      "True Negative Rate: 0.5000\n",
      "False Positive Rate: 0.2424\n",
      "Negative Predictive Value: 0.2750\n",
      "False Discovery Rate: 0.3498\n",
      "Accuracy score: 0.4375\n",
      "Precision Score: 0.6502\n",
      "Recall Score: 0.4085\n",
      "Roc AUC Score: 0.4542\n",
      "Randomness of prediction: 0.0625\n"
     ]
    }
   ],
   "source": [
    "# Dataset Diabetes, Algoritm 2, threshold_intersec = 0.1\n",
    "metrics, randoms = main(alg_n=2, n_splits = 6, dataset = 1, threshold_subset=0.1)\n",
    "print_metrics(metrics)\n",
    "print('Randomness of prediction:', randoms)"
   ]
  },
  {
   "cell_type": "markdown",
   "metadata": {},
   "source": [
    "# 8. Compare with Bernoulli Naive Bayes Algorithm\n",
    " "
   ]
  },
  {
   "cell_type": "code",
   "execution_count": 540,
   "metadata": {
    "collapsed": true
   },
   "outputs": [
    {
     "data": {
      "application/vnd.jupyter.widget-view+json": {
       "model_id": "b5f7b1484ec5490391795fbd75286d2d",
       "version_major": 2,
       "version_minor": 0
      },
      "text/plain": [
       "HBox(children=(HTML(value=''), FloatProgress(value=0.0, max=10.0), HTML(value='')))"
      ]
     },
     "metadata": {},
     "output_type": "display_data"
    },
    {
     "name": "stdout",
     "output_type": "stream",
     "text": [
      "\n",
      "Algorithm runtime: 0.55052109999815\n",
      "True Positive: 5.3000\n",
      "True Negative: 1.4000\n",
      "False Positive: 1.6000\n",
      "False Negativee: 1.3000\n",
      "True Positive Rate: 0.8190\n",
      "True Negative Rate: 0.4933\n",
      "False Positive Rate: 0.2621\n",
      "Negative Predictive Value: 0.5567\n",
      "False Discovery Rate: 0.2150\n",
      "Accuracy score: 0.6978\n",
      "Precision Score: 0.7850\n",
      "Recall Score: 0.8190\n",
      "Roc AUC Score: 0.6562\n"
     ]
    }
   ],
   "source": [
    "# Dataset Tic-Tac-Toe\n",
    "metrics, randoms = main(alg_n='bernoulliNB', n_splits = 10, dataset = 1)\n",
    "print_metrics(metrics)"
   ]
  },
  {
   "cell_type": "code",
   "execution_count": 88,
   "metadata": {
    "collapsed": true
   },
   "outputs": [
    {
     "data": {
      "application/vnd.jupyter.widget-view+json": {
       "model_id": "774f760ffb694994a4d3851be8f26751",
       "version_major": 2,
       "version_minor": 0
      },
      "text/plain": [
       "HBox(children=(HTML(value=''), FloatProgress(value=0.0, max=6.0), HTML(value='')))"
      ]
     },
     "metadata": {},
     "output_type": "display_data"
    },
    {
     "name": "stdout",
     "output_type": "stream",
     "text": [
      "\n",
      "Algorithm runtime: 228.30343869999342\n",
      "True Positive: 9.1667\n",
      "True Negative: 2.8333\n",
      "False Positive: 2.1667\n",
      "False Negativee: 1.8333\n",
      "True Positive Rate: 0.8331\n",
      "True Negative Rate: 0.5861\n",
      "False Positive Rate: 0.2033\n",
      "Negative Predictive Value: 0.6417\n",
      "False Discovery Rate: 0.1849\n",
      "Accuracy score: 0.7500\n",
      "Precision Score: 0.8151\n",
      "Recall Score: 0.8331\n",
      "Roc AUC Score: 0.7096\n"
     ]
    }
   ],
   "source": [
    "# Dataset Bank \n",
    "metrics, randoms = main(alg_n='bernoulliNB', n_splits = 6, dataset = 2)\n",
    "print_metrics(metrics)"
   ]
  },
  {
   "cell_type": "code",
   "execution_count": 544,
   "metadata": {
    "collapsed": true
   },
   "outputs": [
    {
     "data": {
      "application/vnd.jupyter.widget-view+json": {
       "model_id": "e070bf728a054ef8a5e9ed1c3bfeafcd",
       "version_major": 2,
       "version_minor": 0
      },
      "text/plain": [
       "HBox(children=(HTML(value=''), FloatProgress(value=0.0, max=10.0), HTML(value='')))"
      ]
     },
     "metadata": {},
     "output_type": "display_data"
    },
    {
     "name": "stdout",
     "output_type": "stream",
     "text": [
      "\n",
      "Algorithm runtime: 0.5073042000294663\n",
      "True Positive: 3.5000\n",
      "True Negative: 3.7000\n",
      "False Positive: 0.4000\n",
      "False Negativee: 1.0000\n",
      "True Positive Rate: 0.7733\n",
      "True Negative Rate: 0.9183\n",
      "False Positive Rate: 0.1250\n",
      "Negative Predictive Value: 0.8105\n",
      "False Discovery Rate: 0.1167\n",
      "Accuracy score: 0.8361\n",
      "Precision Score: 0.8833\n",
      "Recall Score: 0.7733\n",
      "Roc AUC Score: 0.8458\n"
     ]
    }
   ],
   "source": [
    "# Dataset Diabetes\n",
    "metrics, randoms = main(alg_n='bernoulliNB', n_splits = 10, dataset = 2)\n",
    "print_metrics(metrics)"
   ]
  },
  {
   "cell_type": "markdown",
   "metadata": {},
   "source": [
    "# 9. Сonclusion"
   ]
  },
  {
   "cell_type": "markdown",
   "metadata": {},
   "source": [
    "See in attached report"
   ]
  }
 ],
 "metadata": {
  "kernelspec": {
   "display_name": "Python 3",
   "language": "python",
   "name": "python3"
  },
  "language_info": {
   "codemirror_mode": {
    "name": "ipython",
    "version": 3
   },
   "file_extension": ".py",
   "mimetype": "text/x-python",
   "name": "python",
   "nbconvert_exporter": "python",
   "pygments_lexer": "ipython3",
   "version": "3.7.3"
  }
 },
 "nbformat": 4,
 "nbformat_minor": 4
}
